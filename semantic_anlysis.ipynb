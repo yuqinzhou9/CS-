{
  "cells": [
    {
      "cell_type": "code",
      "execution_count": null,
      "metadata": {
        "colab": {
          "base_uri": "https://localhost:8080/",
          "height": 71
        },
        "id": "l2CrKha5rMnn",
        "outputId": "576713b8-eeab-406d-a60b-9f671a7c989d"
      },
      "outputs": [
        {
          "name": "stdout",
          "output_type": "stream",
          "text": [
            "Mounted at /content/drive\n",
            "/content/drive/MyDrive/CS3\n"
          ]
        },
        {
          "data": {
            "application/vnd.google.colaboratory.intrinsic+json": {
              "type": "string"
            },
            "text/plain": [
              "'/content/drive/MyDrive/CS3'"
            ]
          },
          "execution_count": 1,
          "metadata": {},
          "output_type": "execute_result"
        }
      ],
      "source": [
        "from google.colab import drive\n",
        "drive.mount('/content/drive')\n",
        "%cd /content/drive/MyDrive/CS3\n",
        "%pwd"
      ]
    },
    {
      "cell_type": "code",
      "execution_count": null,
      "metadata": {
        "id": "FQBXsc5c2bJ5"
      },
      "outputs": [],
      "source": [
        "import numpy as np\n",
        "import pandas as pd\n",
        "import matplotlib.pyplot as plt\n",
        "from matplotlib.pyplot import figure\n",
        "import seaborn as sns\n",
        "from sklearn.decomposition import PCA\n",
        "from sklearn.metrics.pairwise import euclidean_distances\n",
        "from sklearn.manifold import TSNE\n",
        "from sklearn.preprocessing import normalize"
      ]
    },
    {
      "cell_type": "code",
      "execution_count": null,
      "metadata": {
        "colab": {
          "base_uri": "https://localhost:8080/"
        },
        "id": "vGFE7c64bkHl",
        "outputId": "4f54f7a5-d9b3-4f59-a431-439de2480822"
      },
      "outputs": [
        {
          "name": "stdout",
          "output_type": "stream",
          "text": [
            "Looking in indexes: https://pypi.org/simple, https://us-python.pkg.dev/colab-wheels/public/simple/\n",
            "Collecting kaleido\n",
            "  Downloading kaleido-0.2.1-py2.py3-none-manylinux1_x86_64.whl (79.9 MB)\n",
            "\u001b[K     |████████████████████████████████| 79.9 MB 153 kB/s \n",
            "\u001b[?25hInstalling collected packages: kaleido\n",
            "Successfully installed kaleido-0.2.1\n"
          ]
        }
      ],
      "source": [
        "from plotly import express as px, graph_objects as go\n",
        "import plotly.io as pio\n",
        "pio.templates.default = \"plotly_white\"\n",
        "!pip install -U kaleido"
      ]
    },
    {
      "cell_type": "code",
      "execution_count": null,
      "metadata": {
        "id": "8DAQj1r2bp_3"
      },
      "outputs": [],
      "source": [
        "plt.rcParams['figure.dpi'] = 300"
      ]
    },
    {
      "cell_type": "code",
      "execution_count": null,
      "metadata": {
        "id": "vh4QAA_D2zjo"
      },
      "outputs": [],
      "source": [
        "df_uniq = pd.read_csv(\"Zuco_uniq_o.csv\")"
      ]
    },
    {
      "cell_type": "code",
      "execution_count": null,
      "metadata": {
        "id": "RBm5LGiib7IM"
      },
      "outputs": [],
      "source": [
        "def word_vector(word):\n",
        "    number_list = ['nFix', 'FFD', 'GPT', 'TRT', 'fixProp']\n",
        "    return np.array(df_uniq[df_uniq['word'] == word][number_list])[0]"
      ]
    },
    {
      "cell_type": "markdown",
      "metadata": {
        "id": "togntZvD9q3a"
      },
      "source": [
        "## Data preprocessing"
      ]
    },
    {
      "cell_type": "code",
      "execution_count": null,
      "metadata": {
        "id": "mTcqa0P69q3a"
      },
      "outputs": [],
      "source": [
        "df_train_original = pd.read_csv(\"../data/training_data/train_and_valid.csv\")\n",
        "df_test_original = pd.read_csv(\"../data/test_data/truth.txt\")"
      ]
    },
    {
      "cell_type": "code",
      "execution_count": null,
      "metadata": {
        "id": "32Cu_xCX9q3b"
      },
      "outputs": [],
      "source": [
        "df = pd.concat([df_train_original, df_test_original])"
      ]
    },
    {
      "cell_type": "code",
      "execution_count": null,
      "metadata": {
        "id": "WbrhYfXg9q3b",
        "outputId": "62ca8819-85b8-4dea-b068-dccb5f2861c1"
      },
      "outputs": [
        {
          "name": "stderr",
          "output_type": "stream",
          "text": [
            "/var/folders/1c/95b9dlpd2xv9yjh6v0xw08700000gn/T/ipykernel_13276/786796607.py:1: FutureWarning: The default value of regex will change from True to False in a future version.\n",
            "  df['word'] = df['word'].str.replace('.<EOS>','')\n"
          ]
        }
      ],
      "source": [
        "df['word'] = df['word'].str.replace('.<EOS>','')"
      ]
    },
    {
      "cell_type": "code",
      "execution_count": null,
      "metadata": {
        "id": "ndQ5fT6r9q3b"
      },
      "outputs": [],
      "source": [
        "df['word'] = df['word'].str.lower()"
      ]
    },
    {
      "cell_type": "code",
      "execution_count": null,
      "metadata": {
        "id": "WXjGhvzG9q3c"
      },
      "outputs": [],
      "source": [
        "df = df[df.word.str.isalpha()]"
      ]
    },
    {
      "cell_type": "code",
      "execution_count": null,
      "metadata": {
        "id": "m4G043TP9q3c",
        "outputId": "4f9b4790-a66d-422f-db4b-12b76481673b"
      },
      "outputs": [
        {
          "data": {
            "text/html": [
              "<div>\n",
              "<style scoped>\n",
              "    .dataframe tbody tr th:only-of-type {\n",
              "        vertical-align: middle;\n",
              "    }\n",
              "\n",
              "    .dataframe tbody tr th {\n",
              "        vertical-align: top;\n",
              "    }\n",
              "\n",
              "    .dataframe thead th {\n",
              "        text-align: right;\n",
              "    }\n",
              "</style>\n",
              "<table border=\"1\" class=\"dataframe\">\n",
              "  <thead>\n",
              "    <tr style=\"text-align: right;\">\n",
              "      <th></th>\n",
              "      <th>sentence_id</th>\n",
              "      <th>word_id</th>\n",
              "      <th>word</th>\n",
              "      <th>nFix</th>\n",
              "      <th>FFD</th>\n",
              "      <th>GPT</th>\n",
              "      <th>TRT</th>\n",
              "      <th>fixProp</th>\n",
              "    </tr>\n",
              "  </thead>\n",
              "  <tbody>\n",
              "    <tr>\n",
              "      <th>0</th>\n",
              "      <td>0</td>\n",
              "      <td>0</td>\n",
              "      <td>carlucci</td>\n",
              "      <td>28.397566</td>\n",
              "      <td>4.642973</td>\n",
              "      <td>6.190631</td>\n",
              "      <td>10.343594</td>\n",
              "      <td>94.117647</td>\n",
              "    </tr>\n",
              "    <tr>\n",
              "      <th>1</th>\n",
              "      <td>0</td>\n",
              "      <td>1</td>\n",
              "      <td>was</td>\n",
              "      <td>12.981744</td>\n",
              "      <td>3.534385</td>\n",
              "      <td>5.263977</td>\n",
              "      <td>4.565348</td>\n",
              "      <td>76.470588</td>\n",
              "    </tr>\n",
              "    <tr>\n",
              "      <th>2</th>\n",
              "      <td>0</td>\n",
              "      <td>2</td>\n",
              "      <td>deputy</td>\n",
              "      <td>25.152130</td>\n",
              "      <td>5.809781</td>\n",
              "      <td>9.926357</td>\n",
              "      <td>9.145251</td>\n",
              "      <td>100.000000</td>\n",
              "    </tr>\n",
              "    <tr>\n",
              "      <th>3</th>\n",
              "      <td>0</td>\n",
              "      <td>3</td>\n",
              "      <td>defense</td>\n",
              "      <td>20.283976</td>\n",
              "      <td>5.261551</td>\n",
              "      <td>8.092455</td>\n",
              "      <td>8.359293</td>\n",
              "      <td>88.235294</td>\n",
              "    </tr>\n",
              "    <tr>\n",
              "      <th>4</th>\n",
              "      <td>0</td>\n",
              "      <td>4</td>\n",
              "      <td>secretary</td>\n",
              "      <td>17.849899</td>\n",
              "      <td>4.135982</td>\n",
              "      <td>4.507129</td>\n",
              "      <td>5.686066</td>\n",
              "      <td>88.235294</td>\n",
              "    </tr>\n",
              "    <tr>\n",
              "      <th>5</th>\n",
              "      <td>0</td>\n",
              "      <td>5</td>\n",
              "      <td>from</td>\n",
              "      <td>12.981744</td>\n",
              "      <td>4.429503</td>\n",
              "      <td>5.169371</td>\n",
              "      <td>5.295512</td>\n",
              "      <td>82.352941</td>\n",
              "    </tr>\n",
              "    <tr>\n",
              "      <th>7</th>\n",
              "      <td>0</td>\n",
              "      <td>7</td>\n",
              "      <td>until</td>\n",
              "      <td>11.359026</td>\n",
              "      <td>3.216605</td>\n",
              "      <td>3.968602</td>\n",
              "      <td>3.786667</td>\n",
              "      <td>64.705882</td>\n",
              "    </tr>\n",
              "    <tr>\n",
              "      <th>9</th>\n",
              "      <td>0</td>\n",
              "      <td>9</td>\n",
              "      <td>national</td>\n",
              "      <td>19.472617</td>\n",
              "      <td>3.694487</td>\n",
              "      <td>8.643111</td>\n",
              "      <td>6.894112</td>\n",
              "      <td>82.352941</td>\n",
              "    </tr>\n",
              "    <tr>\n",
              "      <th>10</th>\n",
              "      <td>0</td>\n",
              "      <td>10</td>\n",
              "      <td>security</td>\n",
              "      <td>20.283976</td>\n",
              "      <td>4.252420</td>\n",
              "      <td>6.098451</td>\n",
              "      <td>7.313775</td>\n",
              "      <td>94.117647</td>\n",
              "    </tr>\n",
              "    <tr>\n",
              "      <th>11</th>\n",
              "      <td>0</td>\n",
              "      <td>11</td>\n",
              "      <td>advisor</td>\n",
              "      <td>13.793103</td>\n",
              "      <td>3.672655</td>\n",
              "      <td>4.296085</td>\n",
              "      <td>4.689064</td>\n",
              "      <td>76.470588</td>\n",
              "    </tr>\n",
              "    <tr>\n",
              "      <th>12</th>\n",
              "      <td>0</td>\n",
              "      <td>12</td>\n",
              "      <td>from</td>\n",
              "      <td>8.924949</td>\n",
              "      <td>2.750853</td>\n",
              "      <td>2.750853</td>\n",
              "      <td>2.750853</td>\n",
              "      <td>64.705882</td>\n",
              "    </tr>\n",
              "    <tr>\n",
              "      <th>14</th>\n",
              "      <td>0</td>\n",
              "      <td>14</td>\n",
              "      <td>until</td>\n",
              "      <td>6.490872</td>\n",
              "      <td>2.282674</td>\n",
              "      <td>3.199625</td>\n",
              "      <td>2.782388</td>\n",
              "      <td>41.176471</td>\n",
              "    </tr>\n",
              "    <tr>\n",
              "      <th>16</th>\n",
              "      <td>0</td>\n",
              "      <td>16</td>\n",
              "      <td>and</td>\n",
              "      <td>8.924949</td>\n",
              "      <td>2.767833</td>\n",
              "      <td>2.932787</td>\n",
              "      <td>2.932787</td>\n",
              "      <td>58.823529</td>\n",
              "    </tr>\n",
              "    <tr>\n",
              "      <th>17</th>\n",
              "      <td>0</td>\n",
              "      <td>17</td>\n",
              "      <td>defense</td>\n",
              "      <td>14.604462</td>\n",
              "      <td>4.412523</td>\n",
              "      <td>5.606014</td>\n",
              "      <td>5.606014</td>\n",
              "      <td>76.470588</td>\n",
              "    </tr>\n",
              "    <tr>\n",
              "      <th>18</th>\n",
              "      <td>0</td>\n",
              "      <td>18</td>\n",
              "      <td>secretary</td>\n",
              "      <td>12.170385</td>\n",
              "      <td>3.017690</td>\n",
              "      <td>4.135982</td>\n",
              "      <td>3.604733</td>\n",
              "      <td>70.588235</td>\n",
              "    </tr>\n",
              "  </tbody>\n",
              "</table>\n",
              "</div>"
            ],
            "text/plain": [
              "    sentence_id  word_id       word       nFix       FFD       GPT        TRT  \\\n",
              "0             0        0   carlucci  28.397566  4.642973  6.190631  10.343594   \n",
              "1             0        1        was  12.981744  3.534385  5.263977   4.565348   \n",
              "2             0        2     deputy  25.152130  5.809781  9.926357   9.145251   \n",
              "3             0        3    defense  20.283976  5.261551  8.092455   8.359293   \n",
              "4             0        4  secretary  17.849899  4.135982  4.507129   5.686066   \n",
              "5             0        5       from  12.981744  4.429503  5.169371   5.295512   \n",
              "7             0        7      until  11.359026  3.216605  3.968602   3.786667   \n",
              "9             0        9   national  19.472617  3.694487  8.643111   6.894112   \n",
              "10            0       10   security  20.283976  4.252420  6.098451   7.313775   \n",
              "11            0       11    advisor  13.793103  3.672655  4.296085   4.689064   \n",
              "12            0       12       from   8.924949  2.750853  2.750853   2.750853   \n",
              "14            0       14      until   6.490872  2.282674  3.199625   2.782388   \n",
              "16            0       16        and   8.924949  2.767833  2.932787   2.932787   \n",
              "17            0       17    defense  14.604462  4.412523  5.606014   5.606014   \n",
              "18            0       18  secretary  12.170385  3.017690  4.135982   3.604733   \n",
              "\n",
              "       fixProp  \n",
              "0    94.117647  \n",
              "1    76.470588  \n",
              "2   100.000000  \n",
              "3    88.235294  \n",
              "4    88.235294  \n",
              "5    82.352941  \n",
              "7    64.705882  \n",
              "9    82.352941  \n",
              "10   94.117647  \n",
              "11   76.470588  \n",
              "12   64.705882  \n",
              "14   41.176471  \n",
              "16   58.823529  \n",
              "17   76.470588  \n",
              "18   70.588235  "
            ]
          },
          "execution_count": 14,
          "metadata": {},
          "output_type": "execute_result"
        }
      ],
      "source": [
        "df.head(15)"
      ]
    },
    {
      "cell_type": "code",
      "execution_count": null,
      "metadata": {
        "id": "stY_FryQ9q3d",
        "outputId": "586d7e78-afa4-43cf-c947-8516ed62f75e"
      },
      "outputs": [
        {
          "name": "stderr",
          "output_type": "stream",
          "text": [
            "/var/folders/1c/95b9dlpd2xv9yjh6v0xw08700000gn/T/ipykernel_13276/2235991759.py:1: FutureWarning: Dropping of nuisance columns in DataFrame reductions (with 'numeric_only=None') is deprecated; in a future version this will raise TypeError.  Select only valid columns before calling the reduction.\n",
            "  df[df['word'] == 'she'].mean()\n"
          ]
        },
        {
          "data": {
            "text/plain": [
              "sentence_id    568.959184\n",
              "word_id          5.265306\n",
              "nFix             9.307460\n",
              "FFD              2.098361\n",
              "GPT              3.301810\n",
              "TRT              3.319451\n",
              "fixProp         46.570795\n",
              "dtype: float64"
            ]
          },
          "execution_count": 15,
          "metadata": {},
          "output_type": "execute_result"
        }
      ],
      "source": [
        "df[df['word'] == 'she'].mean()"
      ]
    },
    {
      "cell_type": "code",
      "execution_count": null,
      "metadata": {
        "id": "a_62cGX49q3d",
        "outputId": "1309e542-85ba-466a-af2f-d6a38854e606"
      },
      "outputs": [
        {
          "name": "stderr",
          "output_type": "stream",
          "text": [
            "/var/folders/1c/95b9dlpd2xv9yjh6v0xw08700000gn/T/ipykernel_13276/1804113090.py:1: FutureWarning: Dropping of nuisance columns in DataFrame reductions (with 'numeric_only=None') is deprecated; in a future version this will raise TypeError.  Select only valid columns before calling the reduction.\n",
            "  df[df['word'] == 'he'].mean()\n"
          ]
        },
        {
          "data": {
            "text/plain": [
              "sentence_id    482.460674\n",
              "word_id          4.734082\n",
              "nFix             4.752511\n",
              "FFD              1.315503\n",
              "GPT              1.797553\n",
              "TRT              1.654981\n",
              "fixProp         27.920412\n",
              "dtype: float64"
            ]
          },
          "execution_count": 16,
          "metadata": {},
          "output_type": "execute_result"
        }
      ],
      "source": [
        "df[df['word'] == 'he'].mean()"
      ]
    },
    {
      "cell_type": "code",
      "execution_count": null,
      "metadata": {
        "id": "8L1DX2v49q3e"
      },
      "outputs": [],
      "source": [
        "df.to_csv('../data/Zuco.csv', index=False)"
      ]
    },
    {
      "cell_type": "markdown",
      "metadata": {
        "id": "cNpLUOmI9q3e"
      },
      "source": [
        "## word frequency"
      ]
    },
    {
      "cell_type": "code",
      "execution_count": null,
      "metadata": {
        "id": "fEkObmer9q3f"
      },
      "outputs": [],
      "source": [
        "df_dict = dict(df['word'].value_counts())"
      ]
    },
    {
      "cell_type": "code",
      "execution_count": null,
      "metadata": {
        "id": "_tg86tdC9q3f",
        "outputId": "ac0aad01-11b6-4266-b986-3ae77e7e1fa8"
      },
      "outputs": [
        {
          "data": {
            "text/plain": [
              "4400"
            ]
          },
          "execution_count": 19,
          "metadata": {},
          "output_type": "execute_result"
        }
      ],
      "source": [
        "len(df_dict)"
      ]
    },
    {
      "cell_type": "code",
      "execution_count": null,
      "metadata": {
        "id": "ix6u0hy49q3g",
        "outputId": "4c70c853-0c13-4748-caae-ca1914d601e7"
      },
      "outputs": [
        {
          "data": {
            "text/plain": [
              "{'the': 1060,\n",
              " 'of': 618,\n",
              " 'and': 615,\n",
              " 'a': 548,\n",
              " 'in': 524,\n",
              " 'to': 393,\n",
              " 'was': 281,\n",
              " 'he': 267,\n",
              " 'his': 212,\n",
              " 'is': 191,\n",
              " 'as': 188,\n",
              " 'for': 131,\n",
              " 'with': 121,\n",
              " 'that': 113,\n",
              " 'on': 111,\n",
              " 'an': 107,\n",
              " 'from': 107,\n",
              " 'it': 94,\n",
              " 'at': 93,\n",
              " 'by': 83,\n",
              " 'but': 72,\n",
              " 'this': 70,\n",
              " 'who': 64,\n",
              " 'one': 56,\n",
              " 'film': 56,\n",
              " 'movie': 54,\n",
              " 'be': 52,\n",
              " 'bush': 50,\n",
              " 'she': 49,\n",
              " 'its': 45,\n",
              " 'has': 45,\n",
              " 'after': 44,\n",
              " 'her': 44,\n",
              " 'american': 43,\n",
              " 'president': 42,\n",
              " 'new': 41,\n",
              " 'also': 40,\n",
              " 'not': 40,\n",
              " 'have': 38,\n",
              " 'had': 37,\n",
              " 'were': 37,\n",
              " 'most': 36,\n",
              " 'born': 36,\n",
              " 'which': 35,\n",
              " 'first': 35,\n",
              " 'all': 32,\n",
              " 'like': 32,\n",
              " 'george': 32,\n",
              " 'about': 31,\n",
              " 'more': 30,\n",
              " 'during': 30,\n",
              " 'or': 29,\n",
              " 'john': 28,\n",
              " 'when': 28,\n",
              " 'became': 27,\n",
              " 'united': 26,\n",
              " 'been': 26,\n",
              " 'family': 26,\n",
              " 'time': 26,\n",
              " 'only': 25,\n",
              " 'while': 25,\n",
              " 'than': 24,\n",
              " 'later': 24,\n",
              " 'married': 24,\n",
              " 'both': 24,\n",
              " 'states': 24,\n",
              " 'their': 24,\n",
              " 'you': 24,\n",
              " 'son': 23,\n",
              " 'war': 23,\n",
              " 'into': 22,\n",
              " 'will': 22,\n",
              " 'work': 22,\n",
              " 'world': 22,\n",
              " 'if': 22,\n",
              " 'two': 22,\n",
              " 'school': 21,\n",
              " 'are': 21,\n",
              " 'york': 20,\n",
              " 'may': 20,\n",
              " 'him': 20,\n",
              " 'so': 20,\n",
              " 'until': 20,\n",
              " 'where': 20,\n",
              " 'kennedy': 19,\n",
              " 'would': 19,\n",
              " 'just': 19,\n",
              " 'some': 19,\n",
              " 'years': 19,\n",
              " 'brother': 18,\n",
              " 'henry': 18,\n",
              " 'they': 18,\n",
              " 'other': 18,\n",
              " 'comedy': 18,\n",
              " 'i': 18,\n",
              " 'year': 18,\n",
              " 'best': 17,\n",
              " 'university': 17,\n",
              " 'even': 17,\n",
              " 'ford': 17,\n",
              " 'following': 17,\n",
              " 'made': 16,\n",
              " 'through': 16,\n",
              " 'much': 16,\n",
              " 'there': 16,\n",
              " 'died': 16,\n",
              " 'never': 16,\n",
              " 'served': 16,\n",
              " 'good': 16,\n",
              " 'second': 16,\n",
              " 'ii': 15,\n",
              " 'over': 15,\n",
              " 'no': 15,\n",
              " 'army': 15,\n",
              " 'adams': 15,\n",
              " 'january': 15,\n",
              " 'then': 15,\n",
              " 'charles': 15,\n",
              " 'little': 15,\n",
              " 'james': 15,\n",
              " 'often': 14,\n",
              " 'should': 14,\n",
              " 'england': 14,\n",
              " 'william': 14,\n",
              " 'wife': 14,\n",
              " 'movies': 14,\n",
              " 'television': 14,\n",
              " 'become': 14,\n",
              " 'well': 13,\n",
              " 'great': 13,\n",
              " 'company': 13,\n",
              " 'another': 13,\n",
              " 'left': 13,\n",
              " 'being': 13,\n",
              " 'moved': 13,\n",
              " 'state': 13,\n",
              " 'director': 13,\n",
              " 'out': 13,\n",
              " 'love': 13,\n",
              " 'november': 13,\n",
              " 'miguel': 12,\n",
              " 'three': 12,\n",
              " 'actor': 12,\n",
              " 'king': 12,\n",
              " 'member': 12,\n",
              " 'known': 12,\n",
              " 'college': 12,\n",
              " 'could': 12,\n",
              " 'graduated': 12,\n",
              " 'named': 12,\n",
              " 'life': 12,\n",
              " 'such': 12,\n",
              " 'played': 12,\n",
              " 'between': 12,\n",
              " 'huxley': 12,\n",
              " 'up': 12,\n",
              " 'what': 12,\n",
              " 'secretary': 12,\n",
              " 'very': 11,\n",
              " 'part': 11,\n",
              " 'hollywood': 11,\n",
              " 'mary': 11,\n",
              " 'role': 11,\n",
              " 'defense': 11,\n",
              " 'man': 11,\n",
              " 'many': 11,\n",
              " 'under': 11,\n",
              " 'too': 11,\n",
              " 'last': 11,\n",
              " 'clooney': 11,\n",
              " 'presidential': 10,\n",
              " 'degree': 10,\n",
              " 'popular': 10,\n",
              " 'early': 10,\n",
              " 'how': 10,\n",
              " 'father': 10,\n",
              " 'few': 10,\n",
              " 'series': 10,\n",
              " 'although': 10,\n",
              " 'same': 10,\n",
              " 'picture': 10,\n",
              " 'films': 10,\n",
              " 'april': 10,\n",
              " 'take': 10,\n",
              " 'since': 10,\n",
              " 'us': 10,\n",
              " 'characters': 10,\n",
              " 'once': 10,\n",
              " 'five': 10,\n",
              " 'including': 10,\n",
              " 'make': 9,\n",
              " 'age': 9,\n",
              " 'several': 9,\n",
              " 'records': 9,\n",
              " 'house': 9,\n",
              " 'reagan': 9,\n",
              " 'those': 9,\n",
              " 'against': 9,\n",
              " 'long': 9,\n",
              " 'did': 9,\n",
              " 'bad': 9,\n",
              " 'california': 9,\n",
              " 'city': 9,\n",
              " 'my': 9,\n",
              " 'career': 9,\n",
              " 'joseph': 9,\n",
              " 'ferrer': 9,\n",
              " 'received': 9,\n",
              " 'because': 9,\n",
              " 'wrote': 9,\n",
              " 'former': 9,\n",
              " 'your': 9,\n",
              " 'point': 9,\n",
              " 'can': 9,\n",
              " 'elected': 9,\n",
              " 'whom': 9,\n",
              " 'feels': 9,\n",
              " 'before': 9,\n",
              " 'robert': 9,\n",
              " 'michael': 9,\n",
              " 'actress': 9,\n",
              " 'went': 9,\n",
              " 'story': 9,\n",
              " 'young': 8,\n",
              " 'show': 8,\n",
              " 'audience': 8,\n",
              " 'republican': 8,\n",
              " 'law': 8,\n",
              " 'go': 8,\n",
              " 'acting': 8,\n",
              " 'senate': 8,\n",
              " 'florida': 8,\n",
              " 'white': 8,\n",
              " 'ever': 8,\n",
              " 'despite': 8,\n",
              " 'far': 8,\n",
              " 'french': 8,\n",
              " 'daughter': 8,\n",
              " 'franklin': 8,\n",
              " 'put': 8,\n",
              " 'nothing': 8,\n",
              " 'drama': 8,\n",
              " 'without': 8,\n",
              " 'though': 8,\n",
              " 'march': 8,\n",
              " 'old': 8,\n",
              " 'me': 8,\n",
              " 'star': 8,\n",
              " 'boston': 8,\n",
              " 'massachusetts': 8,\n",
              " 'again': 8,\n",
              " 'serving': 8,\n",
              " 'pretty': 7,\n",
              " 'rock': 7,\n",
              " 'began': 7,\n",
              " 'human': 7,\n",
              " 'come': 7,\n",
              " 'having': 7,\n",
              " 'won': 7,\n",
              " 'general': 7,\n",
              " 'writer': 7,\n",
              " 'barrymore': 7,\n",
              " 'romantic': 7,\n",
              " 'small': 7,\n",
              " 'find': 7,\n",
              " 'mother': 7,\n",
              " 'de': 7,\n",
              " 'eventually': 7,\n",
              " 'football': 7,\n",
              " 'music': 7,\n",
              " 'december': 7,\n",
              " 'cast': 7,\n",
              " 'times': 7,\n",
              " 'home': 7,\n",
              " 'keep': 7,\n",
              " 'appeared': 7,\n",
              " 'production': 7,\n",
              " 'gave': 7,\n",
              " 'them': 7,\n",
              " 'funny': 7,\n",
              " 'british': 7,\n",
              " 'worked': 7,\n",
              " 'sense': 7,\n",
              " 'these': 7,\n",
              " 'important': 7,\n",
              " 'minutes': 7,\n",
              " 'business': 7,\n",
              " 'still': 7,\n",
              " 'island': 7,\n",
              " 'roosevelt': 7,\n",
              " 'game': 7,\n",
              " 'among': 7,\n",
              " 'way': 7,\n",
              " 'thomas': 7,\n",
              " 'october': 7,\n",
              " 'yet': 7,\n",
              " 'widely': 7,\n",
              " 'major': 6,\n",
              " 'february': 6,\n",
              " 'joined': 6,\n",
              " 'richard': 6,\n",
              " 'june': 6,\n",
              " 'famous': 6,\n",
              " 'people': 6,\n",
              " 'jazz': 6,\n",
              " 'doing': 6,\n",
              " 'instead': 6,\n",
              " 'anne': 6,\n",
              " 'look': 6,\n",
              " 'politics': 6,\n",
              " 'interest': 6,\n",
              " 'battle': 6,\n",
              " 'national': 6,\n",
              " 'called': 6,\n",
              " 'august': 6,\n",
              " 'governor': 6,\n",
              " 'fun': 6,\n",
              " 'shows': 6,\n",
              " 'now': 6,\n",
              " 'prize': 6,\n",
              " 'away': 6,\n",
              " 'hindman': 6,\n",
              " 'name': 6,\n",
              " 'office': 6,\n",
              " 'off': 6,\n",
              " 'action': 6,\n",
              " 'high': 6,\n",
              " 'captain': 6,\n",
              " 'enough': 6,\n",
              " 'elvis': 6,\n",
              " 'france': 6,\n",
              " 'political': 6,\n",
              " 'grant': 6,\n",
              " 'harvard': 6,\n",
              " 'south': 6,\n",
              " 'say': 6,\n",
              " 'big': 6,\n",
              " 'children': 6,\n",
              " 'video': 6,\n",
              " 'around': 6,\n",
              " 'given': 6,\n",
              " 'lot': 6,\n",
              " 'place': 6,\n",
              " 'awarded': 6,\n",
              " 'own': 6,\n",
              " 'along': 6,\n",
              " 'intelligence': 6,\n",
              " 'power': 6,\n",
              " 'starred': 6,\n",
              " 'every': 6,\n",
              " 'led': 6,\n",
              " 'town': 6,\n",
              " 'original': 6,\n",
              " 'get': 6,\n",
              " 'came': 6,\n",
              " 'beautifully': 6,\n",
              " 'campaign': 6,\n",
              " 'sort': 5,\n",
              " 'members': 5,\n",
              " 'union': 5,\n",
              " 'signed': 5,\n",
              " 'performances': 5,\n",
              " 'francis': 5,\n",
              " 'catherine': 5,\n",
              " 'level': 5,\n",
              " 'remains': 5,\n",
              " 'next': 5,\n",
              " 'maryland': 5,\n",
              " 'together': 5,\n",
              " 'marine': 5,\n",
              " 'always': 5,\n",
              " 'number': 5,\n",
              " 'took': 5,\n",
              " 'lost': 5,\n",
              " 'screen': 5,\n",
              " 'able': 5,\n",
              " 'active': 5,\n",
              " 'thing': 5,\n",
              " 'plot': 5,\n",
              " 'beyond': 5,\n",
              " 'civil': 5,\n",
              " 'four': 5,\n",
              " 'included': 5,\n",
              " 'monroe': 5,\n",
              " 'hilarious': 5,\n",
              " 'hutchinson': 5,\n",
              " 'death': 5,\n",
              " 'singer': 5,\n",
              " 'contemporary': 5,\n",
              " 'san': 5,\n",
              " 'real': 5,\n",
              " 'austin': 5,\n",
              " 'einstein': 5,\n",
              " 'performance': 5,\n",
              " 'society': 5,\n",
              " 'raised': 5,\n",
              " 'darwin': 5,\n",
              " 'davis': 5,\n",
              " 'brothers': 5,\n",
              " 'brown': 5,\n",
              " 'men': 5,\n",
              " 'might': 5,\n",
              " 'play': 5,\n",
              " 'experience': 5,\n",
              " 'rest': 5,\n",
              " 'firm': 5,\n",
              " 'something': 5,\n",
              " 'appointed': 5,\n",
              " 'crime': 5,\n",
              " 'presley': 5,\n",
              " 'position': 5,\n",
              " 'cousin': 5,\n",
              " 'attended': 5,\n",
              " 'almost': 5,\n",
              " 'grandfather': 5,\n",
              " 'smith': 5,\n",
              " 'horror': 5,\n",
              " 'book': 5,\n",
              " 'close': 5,\n",
              " 'mcnamara': 5,\n",
              " 'entertainment': 5,\n",
              " 'documentary': 5,\n",
              " 'returned': 5,\n",
              " 'english': 5,\n",
              " 'education': 5,\n",
              " 'local': 5,\n",
              " 'published': 5,\n",
              " 'himself': 5,\n",
              " 'black': 5,\n",
              " 'yale': 5,\n",
              " 'iii': 5,\n",
              " 'makes': 5,\n",
              " 'images': 5,\n",
              " 'compelling': 4,\n",
              " 'cheney': 4,\n",
              " 'herbert': 4,\n",
              " 'killed': 4,\n",
              " 'working': 4,\n",
              " 'geiger': 4,\n",
              " 'connecticut': 4,\n",
              " 'roman': 4,\n",
              " 'engaging': 4,\n",
              " 'seen': 4,\n",
              " 'catholic': 4,\n",
              " 'opposite': 4,\n",
              " 'each': 4,\n",
              " 'musical': 4,\n",
              " 'politician': 4,\n",
              " 'kind': 4,\n",
              " 'pennsylvania': 4,\n",
              " 'affecting': 4,\n",
              " 'department': 4,\n",
              " 'supporting': 4,\n",
              " 'democratic': 4,\n",
              " 'seem': 4,\n",
              " 'satire': 4,\n",
              " 'personal': 4,\n",
              " 'portrait': 4,\n",
              " 'foreign': 4,\n",
              " 'dole': 4,\n",
              " 'league': 4,\n",
              " 'particularly': 4,\n",
              " 'free': 4,\n",
              " 'maria': 4,\n",
              " 'chairman': 4,\n",
              " 'simpson': 4,\n",
              " 'direction': 4,\n",
              " 'july': 4,\n",
              " 'playing': 4,\n",
              " 'staff': 4,\n",
              " 'getting': 4,\n",
              " 'character': 4,\n",
              " 'columbia': 4,\n",
              " 'nobel': 4,\n",
              " 'likely': 4,\n",
              " 'ability': 4,\n",
              " 'emotional': 4,\n",
              " 'center': 4,\n",
              " 'less': 4,\n",
              " 'soon': 4,\n",
              " 'created': 4,\n",
              " 'david': 4,\n",
              " 'ran': 4,\n",
              " 'cancer': 4,\n",
              " 'extraordinary': 4,\n",
              " 'really': 4,\n",
              " 'peter': 4,\n",
              " 'ultimately': 4,\n",
              " 'presidents': 4,\n",
              " 'version': 4,\n",
              " 'harry': 4,\n",
              " 'especially': 4,\n",
              " 'performed': 4,\n",
              " 'fans': 4,\n",
              " 'candidate': 4,\n",
              " 'poetry': 4,\n",
              " 'japanese': 4,\n",
              " 'entered': 4,\n",
              " 'medicine': 4,\n",
              " 'done': 4,\n",
              " 'creation': 4,\n",
              " 'job': 4,\n",
              " 'released': 4,\n",
              " 'soviet': 4,\n",
              " 'hall': 4,\n",
              " 'motion': 4,\n",
              " 'marriage': 4,\n",
              " 'finish': 4,\n",
              " 'eight': 4,\n",
              " 'paternal': 4,\n",
              " 'red': 4,\n",
              " 'notably': 4,\n",
              " 'portugal': 4,\n",
              " 'founded': 4,\n",
              " 'manager': 4,\n",
              " 'lieutenant': 4,\n",
              " 'class': 4,\n",
              " 'hero': 4,\n",
              " 'author': 4,\n",
              " 'german': 4,\n",
              " 'half': 4,\n",
              " 'administration': 4,\n",
              " 'voting': 4,\n",
              " 'manners': 4,\n",
              " 'include': 4,\n",
              " 'younger': 4,\n",
              " 'side': 4,\n",
              " 'drew': 4,\n",
              " 'everything': 4,\n",
              " 'title': 4,\n",
              " 'here': 4,\n",
              " 'texas': 4,\n",
              " 'executive': 4,\n",
              " 'respect': 4,\n",
              " 'twice': 4,\n",
              " 'rosemary': 4,\n",
              " 'wedding': 4,\n",
              " 'theater': 4,\n",
              " 'baldwin': 4,\n",
              " 'east': 4,\n",
              " 'neither': 4,\n",
              " 'lived': 4,\n",
              " 'earned': 4,\n",
              " 'appearances': 4,\n",
              " 'making': 4,\n",
              " 'works': 4,\n",
              " 'leading': 4,\n",
              " 'friends': 4,\n",
              " 'rhode': 4,\n",
              " 'samuel': 4,\n",
              " 'representatives': 4,\n",
              " 'bid': 4,\n",
              " 'debut': 4,\n",
              " 'prescott': 4,\n",
              " 'hard': 4,\n",
              " 'ultimate': 4,\n",
              " 'chemistry': 4,\n",
              " 'beginning': 4,\n",
              " 'notable': 4,\n",
              " 'youngest': 4,\n",
              " 'praised': 4,\n",
              " 'kerouac': 4,\n",
              " 'tv': 4,\n",
              " 'feature': 4,\n",
              " 'jack': 4,\n",
              " 'coppola': 4,\n",
              " 'watch': 4,\n",
              " 'rose': 4,\n",
              " 'party': 4,\n",
              " 'wonderful': 4,\n",
              " 'act': 4,\n",
              " 'brilliant': 4,\n",
              " 'ohio': 4,\n",
              " 'stage': 3,\n",
              " 'area': 3,\n",
              " 'alexander': 3,\n",
              " 'large': 3,\n",
              " 'viewed': 3,\n",
              " 'women': 3,\n",
              " 'blade': 3,\n",
              " 'male': 3,\n",
              " 'pacific': 3,\n",
              " 'accepted': 3,\n",
              " 'congress': 3,\n",
              " 'regarded': 3,\n",
              " 'grand': 3,\n",
              " 'late': 3,\n",
              " 'fleming': 3,\n",
              " 'lyrical': 3,\n",
              " 'psychological': 3,\n",
              " 'winthrop': 3,\n",
              " 'passed': 3,\n",
              " 'knight': 3,\n",
              " 'besides': 3,\n",
              " 'wyoming': 3,\n",
              " 'recent': 3,\n",
              " 'jewish': 3,\n",
              " 'albert': 3,\n",
              " 'live': 3,\n",
              " 'stunning': 3,\n",
              " 'head': 3,\n",
              " 'irish': 3,\n",
              " 'unfunny': 3,\n",
              " 'descent': 3,\n",
              " 'koch': 3,\n",
              " 'charm': 3,\n",
              " 'memorial': 3,\n",
              " 'sexual': 3,\n",
              " 'classic': 3,\n",
              " 'visual': 3,\n",
              " 'divorced': 3,\n",
              " 'short': 3,\n",
              " 'fenimore': 3,\n",
              " 'representative': 3,\n",
              " 'read': 3,\n",
              " 'final': 3,\n",
              " 'maternal': 3,\n",
              " 'spends': 3,\n",
              " 'sheldon': 3,\n",
              " 'deborah': 3,\n",
              " 'serious': 3,\n",
              " 'said': 3,\n",
              " 'script': 3,\n",
              " 'recorded': 3,\n",
              " 'largely': 3,\n",
              " 'groucho': 3,\n",
              " 'western': 3,\n",
              " 'socialist': 3,\n",
              " 'quebec': 3,\n",
              " 'sometimes': 3,\n",
              " 'kids': 3,\n",
              " 'biography': 3,\n",
              " 'why': 3,\n",
              " 'losing': 3,\n",
              " 'affair': 3,\n",
              " 'highly': 3,\n",
              " 'figures': 3,\n",
              " 'genuinely': 3,\n",
              " 'senator': 3,\n",
              " 'stand': 3,\n",
              " 'andrew': 3,\n",
              " 'studied': 3,\n",
              " 'key': 3,\n",
              " 'issues': 3,\n",
              " 'soldier': 3,\n",
              " 'roles': 3,\n",
              " 'rocky': 3,\n",
              " 'laugh': 3,\n",
              " 'hope': 3,\n",
              " 'third': 3,\n",
              " 'things': 3,\n",
              " 'hodgkin': 3,\n",
              " 'timothy': 3,\n",
              " 'sent': 3,\n",
              " 'games': 3,\n",
              " 'nearly': 3,\n",
              " 'bank': 3,\n",
              " 'lead': 3,\n",
              " 'security': 3,\n",
              " 'worth': 3,\n",
              " 'player': 3,\n",
              " 'emotionally': 3,\n",
              " 'comic': 3,\n",
              " 'clever': 3,\n",
              " 'bouvier': 3,\n",
              " 'decided': 3,\n",
              " 'nomination': 3,\n",
              " 'system': 3,\n",
              " 'powerful': 3,\n",
              " 'care': 3,\n",
              " 'nonviolent': 3,\n",
              " 'homer': 3,\n",
              " 'vote': 3,\n",
              " 'generation': 3,\n",
              " 'tenth': 3,\n",
              " 'lovett': 3,\n",
              " 'county': 3,\n",
              " 'design': 3,\n",
              " 'jonathan': 3,\n",
              " 'fresh': 3,\n",
              " 'approach': 3,\n",
              " 'history': 3,\n",
              " 'elliot': 3,\n",
              " 'reign': 3,\n",
              " 'produced': 3,\n",
              " 'animation': 3,\n",
              " 'charter': 3,\n",
              " 'subject': 3,\n",
              " 'cemetery': 3,\n",
              " 'possible': 3,\n",
              " 'plenty': 3,\n",
              " 'everyone': 3,\n",
              " 'greatest': 3,\n",
              " 'scenes': 3,\n",
              " 'anyone': 3,\n",
              " 'reason': 3,\n",
              " 'forced': 3,\n",
              " 'art': 3,\n",
              " 'federal': 3,\n",
              " 'leads': 3,\n",
              " 'gives': 3,\n",
              " 'towards': 3,\n",
              " 'piece': 3,\n",
              " 'christian': 3,\n",
              " 'sequel': 3,\n",
              " 'day': 3,\n",
              " 'dull': 3,\n",
              " 'any': 3,\n",
              " 'sources': 3,\n",
              " 'watching': 3,\n",
              " 'student': 3,\n",
              " 'concept': 3,\n",
              " 'program': 3,\n",
              " 'los': 3,\n",
              " 'noted': 3,\n",
              " 'medal': 3,\n",
              " 'development': 3,\n",
              " 'spring': 3,\n",
              " 'chief': 3,\n",
              " 'cinematic': 3,\n",
              " 'initially': 3,\n",
              " 'either': 3,\n",
              " 'deep': 3,\n",
              " 'rival': 3,\n",
              " 'sister': 3,\n",
              " 'living': 3,\n",
              " 'price': 3,\n",
              " 'novel': 3,\n",
              " 'someone': 3,\n",
              " 'gail': 3,\n",
              " 'elementary': 3,\n",
              " 'moments': 3,\n",
              " 'service': 3,\n",
              " 'legendary': 3,\n",
              " 'worst': 3,\n",
              " 'leonard': 3,\n",
              " 'struck': 3,\n",
              " 'completely': 3,\n",
              " 'vice': 3,\n",
              " 'formed': 3,\n",
              " 'arista': 3,\n",
              " 'conflicted': 3,\n",
              " 'police': 3,\n",
              " 'mileva': 3,\n",
              " 'taking': 3,\n",
              " 'medical': 3,\n",
              " 'martha': 3,\n",
              " 'studies': 3,\n",
              " 'difficult': 3,\n",
              " 'band': 3,\n",
              " 'harriman': 3,\n",
              " 'due': 3,\n",
              " 'apprentice': 3,\n",
              " 'committee': 3,\n",
              " 'surprise': 3,\n",
              " 'attorney': 3,\n",
              " 'scientific': 3,\n",
              " 'biologist': 3,\n",
              " 'jose': 3,\n",
              " 'cyrano': 3,\n",
              " 'italian': 3,\n",
              " 'outside': 3,\n",
              " 'brevet': 3,\n",
              " 'prominent': 3,\n",
              " 'washington': 3,\n",
              " 'considered': 3,\n",
              " 'social': 3,\n",
              " 'minister': 3,\n",
              " 'got': 3,\n",
              " 'wild': 3,\n",
              " 'money': 3,\n",
              " 'merchant': 3,\n",
              " 'fill': 3,\n",
              " 'end': 3,\n",
              " 'putting': 3,\n",
              " 'revolution': 3,\n",
              " 'bronx': 3,\n",
              " 'coach': 3,\n",
              " 'weinberger': 3,\n",
              " 'nominated': 3,\n",
              " 'down': 3,\n",
              " 'grandson': 3,\n",
              " 'upon': 3,\n",
              " 'parents': 3,\n",
              " 'themes': 3,\n",
              " 'dialogue': 3,\n",
              " 'honor': 3,\n",
              " 'rage': 3,\n",
              " 'democrat': 3,\n",
              " 'numbers': 3,\n",
              " 'paid': 3,\n",
              " 'bill': 3,\n",
              " 'fight': 3,\n",
              " 'arts': 3,\n",
              " 'detroit': 3,\n",
              " 'attending': 3,\n",
              " 'probably': 3,\n",
              " 'visually': 3,\n",
              " 'barely': 3,\n",
              " 'beat': 3,\n",
              " 'election': 3,\n",
              " 'marge': 3,\n",
              " 'alabama': 3,\n",
              " 'rather': 3,\n",
              " 'howard': 3,\n",
              " 'arm': 3,\n",
              " 'used': 3,\n",
              " 'effectively': 3,\n",
              " 'developed': 3,\n",
              " 'officer': 3,\n",
              " 'puerto': 3,\n",
              " 'nearby': 3,\n",
              " 'themselves': 3,\n",
              " 'gets': 3,\n",
              " 'struensee': 3,\n",
              " 'teach': 3,\n",
              " 'fame': 3,\n",
              " 'hopes': 3,\n",
              " 'powers': 3,\n",
              " 'better': 3,\n",
              " 'thanks': 3,\n",
              " 'heart': 3,\n",
              " 'electoral': 3,\n",
              " 'start': 3,\n",
              " 'physician': 3,\n",
              " 'serve': 3,\n",
              " 'quite': 3,\n",
              " 'we': 3,\n",
              " 'slow': 3,\n",
              " 'six': 3,\n",
              " 'word': 3,\n",
              " 'awful': 3,\n",
              " 'alone': 3,\n",
              " 'dead': 3,\n",
              " 'visceral': 3,\n",
              " 'station': 3,\n",
              " 'ulysses': 3,\n",
              " 'supported': 3,\n",
              " 'barbara': 3,\n",
              " 'lawford': 3,\n",
              " 'seems': 3,\n",
              " 'military': 3,\n",
              " 'daniel': 3,\n",
              " 'failure': 3,\n",
              " 'wanted': 3,\n",
              " 'case': 3,\n",
              " 'sex': 3,\n",
              " 'lives': 3,\n",
              " 'poet': 3,\n",
              " 'night': 3,\n",
              " 'teams': 3,\n",
              " 'energy': 3,\n",
              " 'nancy': 3,\n",
              " 'modern': 3,\n",
              " 'corps': 3,\n",
              " 'district': 3,\n",
              " 'educated': 3,\n",
              " 'days': 3,\n",
              " 'public': 3,\n",
              " 'met': 3,\n",
              " 'stupid': 3,\n",
              " 'berkeley': 3,\n",
              " 'near': 3,\n",
              " 'becoming': 3,\n",
              " 'september': 3,\n",
              " 'adolf': 3,\n",
              " 'words': 2,\n",
              " 'fictional': 2,\n",
              " 'study': 2,\n",
              " 'club': 2,\n",
              " 'hearst': 2,\n",
              " 'blow': 2,\n",
              " 'guarantee': 2,\n",
              " 'achieves': 2,\n",
              " 'merged': 2,\n",
              " 'trumpeter': 2,\n",
              " 'group': 2,\n",
              " 'eldest': 2,\n",
              " 'closest': 2,\n",
              " 'animated': 2,\n",
              " 'flicks': 2,\n",
              " 'quincy': 2,\n",
              " 'baffling': 2,\n",
              " 'millionaire': 2,\n",
              " 'form': 2,\n",
              " 'use': 2,\n",
              " 'perfect': 2,\n",
              " 'caroline': 2,\n",
              " 'realized': 2,\n",
              " 'cornetist': 2,\n",
              " 'nor': 2,\n",
              " 'events': 2,\n",
              " 'presents': 2,\n",
              " 'denmark': 2,\n",
              " 'childhood': 2,\n",
              " 'simpsons': 2,\n",
              " 'webster': 2,\n",
              " 'minor': 2,\n",
              " 'roy': 2,\n",
              " 'award': 2,\n",
              " 'ralph': 2,\n",
              " 'palpable': 2,\n",
              " 'ireland': 2,\n",
              " 'sad': 2,\n",
              " 'widow': 2,\n",
              " 'turn': 2,\n",
              " 'north': 2,\n",
              " 'african': 2,\n",
              " 'voters': 2,\n",
              " 'months': 2,\n",
              " 'instrumental': 2,\n",
              " 'elements': 2,\n",
              " 'wire': 2,\n",
              " 'thus': 2,\n",
              " 'emigrated': 2,\n",
              " 'buddy': 2,\n",
              " 'agency': 2,\n",
              " 'geoffrey': 2,\n",
              " 'guy': 2,\n",
              " 'girl': 2,\n",
              " 'effects': 2,\n",
              " 'academy': 2,\n",
              " 'fully': 2,\n",
              " 'twin': 2,\n",
              " 'account': 2,\n",
              " 'hunter': 2,\n",
              " 'divinity': 2,\n",
              " 'treaty': 2,\n",
              " 'williams': 2,\n",
              " 'genre': 2,\n",
              " 'patience': 2,\n",
              " 'consecutive': 2,\n",
              " 'ring': 2,\n",
              " 'efforts': 2,\n",
              " 'clemson': 2,\n",
              " 'returning': 2,\n",
              " 'america': 2,\n",
              " 'fitzgerald': 2,\n",
              " 'chair': 2,\n",
              " 'sitcom': 2,\n",
              " 'senior': 2,\n",
              " 'broncos': 2,\n",
              " 'playoff': 2,\n",
              " 'root': 2,\n",
              " 'spot': 2,\n",
              " 'period': 2,\n",
              " 'arkansas': 2,\n",
              " 'leader': 2,\n",
              " 'nephew': 2,\n",
              " 'joke': 2,\n",
              " 'leaving': 2,\n",
              " 'cross': 2,\n",
              " 'season': 2,\n",
              " 'significant': 2,\n",
              " 'continental': 2,\n",
              " 'lacks': 2,\n",
              " 'ceremony': 2,\n",
              " 'shapeless': 2,\n",
              " 'narc': 2,\n",
              " 'remind': 2,\n",
              " 'dramas': 2,\n",
              " 'thrills': 2,\n",
              " 'training': 2,\n",
              " 'blacksmith': 2,\n",
              " 'ways': 2,\n",
              " 'rob': 2,\n",
              " 'onassis': 2,\n",
              " 'humor': 2,\n",
              " 'appears': 2,\n",
              " 'hot': 2,\n",
              " 'latest': 2,\n",
              " 'staggeringly': 2,\n",
              " 'gosling': 2,\n",
              " 'colonel': 2,\n",
              " 'style': 2,\n",
              " 'starts': 2,\n",
              " 'aristotle': 2,\n",
              " 'dolls': 2,\n",
              " 'focus': 2,\n",
              " 'birth': 2,\n",
              " 'grows': 2,\n",
              " 'crazy': 2,\n",
              " 'talent': 2,\n",
              " 'effect': 2,\n",
              " 'depressing': 2,\n",
              " 'isabel': 2,\n",
              " 'mainly': 2,\n",
              " 'maintain': 2,\n",
              " 'manages': 2,\n",
              " 'current': 2,\n",
              " 'weeks': 2,\n",
              " 'maudlin': 2,\n",
              " 'endeavor': 2,\n",
              " 'disease': 2,\n",
              " 'numerous': 2,\n",
              " 'values': 2,\n",
              " 'winning': 2,\n",
              " 'revolutionary': 2,\n",
              " 'circuit': 2,\n",
              " 'queens': 2,\n",
              " ...}"
            ]
          },
          "execution_count": 20,
          "metadata": {},
          "output_type": "execute_result"
        }
      ],
      "source": [
        "df_dict"
      ]
    },
    {
      "cell_type": "code",
      "execution_count": null,
      "metadata": {
        "id": "QhT9V72Z9q3g"
      },
      "outputs": [],
      "source": [
        "da_freq = pd.DataFrame(df_dict.items(), columns=['Word', 'Frequency'])\n"
      ]
    },
    {
      "cell_type": "code",
      "execution_count": null,
      "metadata": {
        "id": "8P_5T8XX9q3g",
        "outputId": "248007c0-6f55-4a16-b33d-cbe5b62bc58c"
      },
      "outputs": [
        {
          "data": {
            "text/html": [
              "<div>\n",
              "<style scoped>\n",
              "    .dataframe tbody tr th:only-of-type {\n",
              "        vertical-align: middle;\n",
              "    }\n",
              "\n",
              "    .dataframe tbody tr th {\n",
              "        vertical-align: top;\n",
              "    }\n",
              "\n",
              "    .dataframe thead th {\n",
              "        text-align: right;\n",
              "    }\n",
              "</style>\n",
              "<table border=\"1\" class=\"dataframe\">\n",
              "  <thead>\n",
              "    <tr style=\"text-align: right;\">\n",
              "      <th></th>\n",
              "      <th>Word</th>\n",
              "      <th>Frequency</th>\n",
              "    </tr>\n",
              "  </thead>\n",
              "  <tbody>\n",
              "    <tr>\n",
              "      <th>0</th>\n",
              "      <td>the</td>\n",
              "      <td>1060</td>\n",
              "    </tr>\n",
              "    <tr>\n",
              "      <th>1</th>\n",
              "      <td>of</td>\n",
              "      <td>618</td>\n",
              "    </tr>\n",
              "    <tr>\n",
              "      <th>2</th>\n",
              "      <td>and</td>\n",
              "      <td>615</td>\n",
              "    </tr>\n",
              "    <tr>\n",
              "      <th>3</th>\n",
              "      <td>a</td>\n",
              "      <td>548</td>\n",
              "    </tr>\n",
              "    <tr>\n",
              "      <th>4</th>\n",
              "      <td>in</td>\n",
              "      <td>524</td>\n",
              "    </tr>\n",
              "    <tr>\n",
              "      <th>...</th>\n",
              "      <td>...</td>\n",
              "      <td>...</td>\n",
              "    </tr>\n",
              "    <tr>\n",
              "      <th>4395</th>\n",
              "      <td>swedish</td>\n",
              "      <td>1</td>\n",
              "    </tr>\n",
              "    <tr>\n",
              "      <th>4396</th>\n",
              "      <td>curves</td>\n",
              "      <td>1</td>\n",
              "    </tr>\n",
              "    <tr>\n",
              "      <th>4397</th>\n",
              "      <td>described</td>\n",
              "      <td>1</td>\n",
              "    </tr>\n",
              "    <tr>\n",
              "      <th>4398</th>\n",
              "      <td>louisa</td>\n",
              "      <td>1</td>\n",
              "    </tr>\n",
              "    <tr>\n",
              "      <th>4399</th>\n",
              "      <td>pursued</td>\n",
              "      <td>1</td>\n",
              "    </tr>\n",
              "  </tbody>\n",
              "</table>\n",
              "<p>4400 rows × 2 columns</p>\n",
              "</div>"
            ],
            "text/plain": [
              "           Word  Frequency\n",
              "0           the       1060\n",
              "1            of        618\n",
              "2           and        615\n",
              "3             a        548\n",
              "4            in        524\n",
              "...         ...        ...\n",
              "4395    swedish          1\n",
              "4396     curves          1\n",
              "4397  described          1\n",
              "4398     louisa          1\n",
              "4399    pursued          1\n",
              "\n",
              "[4400 rows x 2 columns]"
            ]
          },
          "execution_count": 22,
          "metadata": {},
          "output_type": "execute_result"
        }
      ],
      "source": [
        "da_freq"
      ]
    },
    {
      "cell_type": "code",
      "execution_count": null,
      "metadata": {
        "id": "9n-RMQpH9q3h",
        "outputId": "fa823df3-ba08-47bf-8bbf-9608e25f26b3"
      },
      "outputs": [
        {
          "data": {
            "text/plain": [
              "<AxesSubplot:xlabel='Frequency', ylabel='Word'>"
            ]
          },
          "execution_count": 23,
          "metadata": {},
          "output_type": "execute_result"
        },
        {
          "data": {
            "image/png": "[encoded data removed]",
            "text/plain": [
              "<Figure size 1800x1200 with 1 Axes>"
            ]
          },
          "metadata": {},
          "output_type": "display_data"
        }
      ],
      "source": [
        "sns.set_context(\"paper\")\n",
        "sns.set_style(\"ticks\")\n",
        "sns.barplot(x = 'Frequency', y='Word', data = da_freq.head(20), palette=(\"Greens_r\"))\n"
      ]
    },
    {
      "cell_type": "markdown",
      "metadata": {
        "id": "jaOMukVM9q3h"
      },
      "source": [
        "## the most similar words"
      ]
    },
    {
      "cell_type": "code",
      "execution_count": null,
      "metadata": {
        "id": "ngV4D79-9q3h"
      },
      "outputs": [],
      "source": [
        "df_new = df.copy()\n",
        "df_new = df_new.set_index('word').iloc[:,2:]\n",
        "\n",
        "def similar_words(data, k = 10):\n",
        "    distance_matrix = euclidean_distances(data)\n",
        "    # Note the range of 1:k+1 \n",
        "    # You need to discard the first column \n",
        "    # as that would have the index of the same input word \n",
        "    # because distance between the same word is the minimum (i.e. 0) \n",
        "    top_k_ids = np.argsort(distance_matrix, axis=-1)[:, 1:k+1]\n",
        "\n",
        "    # The input words\n",
        "    inputs = data.index.values\n",
        "\n",
        "    # We go through each column of top_k_ids and index inputs \n",
        "    # and stack those results on columns axis\n",
        "    outputs = np.stack([inputs[top_k_ids[:, i]] for i in range(k)], axis=-1)\n",
        "    return outputs"
      ]
    },
    {
      "cell_type": "code",
      "execution_count": null,
      "metadata": {
        "id": "HDq3u2ao9q3i"
      },
      "outputs": [],
      "source": [
        "outputs = similar_words(df_new)"
      ]
    },
    {
      "cell_type": "code",
      "execution_count": null,
      "metadata": {
        "id": "InrIwISd9q3i",
        "outputId": "adfccb94-560d-4468-a976-cfe350c1249e"
      },
      "outputs": [
        {
          "name": "stdout",
          "output_type": "stream",
          "text": [
            "carlucci: ['submissive' 'rosemary' 'founded' 'attended' 'pierce' 'groucho' 'armando'\n",
            " 'prominent' 'against' 'married']\n",
            "was: ['elder' 'when' 'out' 'next' 'would' 'was' 'from' 'without' 'and' 'were']\n",
            "deputy: ['abraham' 'maria' 'piece' 'working' 'accepted' 'governor' 'passer'\n",
            " 'engineers' 'intelligence' 'forgiveness']\n",
            "defense: ['snarky' 'adopted' 'homeland' 'refused' 'brought' 'actor' 'trophy'\n",
            " 'tycoon' 'tulane' 'ulysses']\n",
            "secretary: ['publisher' 'impressed' 'child' 'rose' 'kennedy' 'director' 'university'\n",
            " 'public' 'spring' 'welfare']\n",
            "from: ['brother' 'libby' 'across' 'also' 'one' 'third' 'the' 'political' 'movie'\n",
            " 'show']\n",
            "until: ['second' 'were' 'area' 'an' 'came' 'first' 'the' 'joined' 'his' 'first']\n",
            "national: ['clear' 'few' 'singer' 'winning' 'name' 'while' 'young' 'audiences'\n",
            " 'disco' 'talent']\n",
            "security: ['throwing' 'contact' 'tennessee' 'presidential' 'appeared' 'teammate'\n",
            " 'practicing' 'season' 'stayed' 'alabama']\n",
            "advisor: ['were' 'first' 'his' 'married' 'some' 'army' 'ten' 'had' 'toward' 'next']\n",
            "from: ['the' 'link' 'hit' 'until' 'new' 'when' 'died' 'would' 'nearly' 'the']\n",
            "until: ['his' 'and' 'it' 'of' 'be' 'from' 'a' 'by' 'and' 'world']\n",
            "and: ['did' 'the' 'and' 'him' 'not' 'one' 'and' 'an' 'hit' 'the']\n",
            "defense: ['writing' 'facts' 'most' 'tigers' 'talk' 'show' 'irish' 'learn' 'the'\n",
            " 'steven']\n",
            "secretary: ['sing' 'questions' 'later' 'equal' 'film' 'an' 'his' 'the' 'an' 'war']\n",
            "in: ['in' 'and' 'he' 'of' 'the' 'his' 'he' 'to' 'of' 'and']\n",
            "following: ['relying' 'hitters' 'affiliate' 'special' 'mathematics' 'often'\n",
            " 'admitted' 'moseley' 'infant' 'dangerous']\n",
            "the: ['the' 'of' 'to' 'his' 'he' 'to' 'in' 'and' 'of' 'the']\n",
            "resignation: ['heart' 'made' 'black' 'notable' 'playoff' 'prompting' 'joseph'\n",
            " 'established' 'university' 'immigrants']\n",
            "of: ['and' 'she' 'and' 'a' 'for' 'for' 'in' 'ken' 'a' 'until']\n",
            "his: ['by' 'the' 'the' 'on' 'the' 'a' 'film' 'in' 'down' 'of']\n",
            "nomination: ['monroe' 'period' 'production' 'puerto' 'indicted' 'shirt' 'newton'\n",
            " 'sworn' 'with' 'meeting']\n",
            "by: ['of' 'the' 'in' 'and' 'to' 'he' 'he' 'he' 'the' 'up']\n",
            "president: ['was' 'at' 'list' 'state' 'more' 'on' 'sla' 'injury' 'broke' 'junior']\n",
            "ronald: ['when' 'style' 'dwi' 'walter' 'mary' 'made' 'lives' 'born' 'one'\n",
            " 'resulted']\n",
            "reagan: ['states' 'won' 'cite' 'sexual' 'wife' 'with' 'strong' 'the' 'school'\n",
            " 'main']\n",
            "and: ['the' 'the' 'for' 'to' 'he' 'the' 'his' 'he' 'on' 'for']\n",
            "his: ['up' 'equal' 'an' 'the' 'an' 'man' 'have' 'eight' 'role' 'secretary']\n",
            "confirmation: ['tweaked' 'strongly' 'member' 'sister' 'supporting' 'great' 'awarded'\n",
            " 'remaining' 'onassis' 'nominated']\n",
            "in: ['at' 'of' 'of' 'in' 'in' 'and' 'he' 'he' 'it' 'for']\n",
            "the: ['the' 'to' 'to' 'a' 'and' 'so' 'and' 'same' 'part' 'is']\n",
            "senate: ['using' 'smith' 'brother' 'national' 'became' 'important' 'united'\n",
            " 'landslide' 'pacific' 'senators']\n",
            "by: ['his' 'of' 'in' 'to' 'in' 'the' 'on' 'he' 'and' 'in']\n",
            "a: ['a' 'the' 'then' 'as' 'after' 'him' 'while' 'so' 'later' 'the']\n",
            "vote: ['his' 'science' 'walk' 'bring' 'nearby' 'last' 'steven' 'party' 'home'\n",
            " 'her']\n",
            "of: ['a' 'day' 'as' 'our' 'and' 'he' 'with' 'you' 'one' 'not']\n",
            "to: ['decision' 'and' 'war' 'affair' 'the' 'movie' 'to' 'his' 'six' 'does']\n",
            "all: ['in' 'the' 'and' 'his' 'in' 'at' 'and' 'of' 'to' 'the']\n",
            "members: ['reported' 'light' 'marge' 'movie' 'michael' 'earned' 'bouvier' 'were'\n",
            " 'irish' 'born']\n",
            "of: ['and' 'the' 'he' 'of' 'the' 'to' 'by' 'and' 'and' 'as']\n",
            "the: ['was' 'his' 'of' 'his' 'of' 'to' 'in' 'the' 'they' 'in']\n",
            "bouvier: ['erasmus' 'appointed' 'michael' 'requests' 'garnica' 'beany' 'johnny'\n",
            " 'nomination' 'screen' 'voting']\n",
            "family: ['leaders' 'under' 'spanish' 'jackson' 'several' 'television' 'news'\n",
            " 'pinned' 'teaching' 'one']\n",
            "of: ['was' 'the' 'of' 'a' 'an' 'the' 'he' 'and' 'the' 'and']\n",
            "smoke: ['supportive' 'political' 'religion' 'medicine' 'presidents' 'attention'\n",
            " 'reagan' 'with' 'offense' 'would']\n",
            "heavily: ['brother' 'then' 'grant' 'south' 'the' 'his' 'former' 'being' 'kennedy'\n",
            " 'ashanti']\n",
            "and: ['in' 'girl' 'to' 'in' 'the' 'of' 'he' 'he' 'the' 'is']\n",
            "have: ['memorial' 'white' 'explorer' 'television' 'jackson' 'spanish' 'naval'\n",
            " 'family' 'greatest' 'zeppo']\n",
            "gruff: ['free' 'that' 'inane' 'also' 'familiar' 'battle' 'chair' 'and' 'raises'\n",
            " 'her']\n",
            "voices: ['difficult' 'died' 'american' 'nikola' 'activity' 'singer' 'for' 'war'\n",
            " 'was' 'buried']\n"
          ]
        }
      ],
      "source": [
        "for i in range(50):\n",
        "    print(f'{df.word.values[i]}: {outputs[i]}')"
      ]
    },
    {
      "cell_type": "markdown",
      "metadata": {
        "id": "pCkArdvp9q3i"
      },
      "source": [
        "## Average features"
      ]
    },
    {
      "cell_type": "code",
      "execution_count": null,
      "metadata": {
        "id": "pCuRBq-c9q3j"
      },
      "outputs": [],
      "source": [
        "my_df =[]\n",
        "number_list = ['nFix', 'FFD', 'GPT', 'TRT', 'fixProp']"
      ]
    },
    {
      "cell_type": "code",
      "execution_count": null,
      "metadata": {
        "id": "pcYyE7aX9q3j"
      },
      "outputs": [],
      "source": [
        "for i in df_dict.keys():\n",
        "    my_df.append(list(df[df['word'] == i][number_list].mean()))"
      ]
    },
    {
      "cell_type": "code",
      "execution_count": null,
      "metadata": {
        "id": "Cgy_bhJV9q3j",
        "outputId": "27d9b8a7-befd-4710-88cd-1da5765e1150"
      },
      "outputs": [
        {
          "data": {
            "text/plain": [
              "4400"
            ]
          },
          "execution_count": 28,
          "metadata": {},
          "output_type": "execute_result"
        }
      ],
      "source": [
        "len(my_df)"
      ]
    },
    {
      "cell_type": "code",
      "execution_count": null,
      "metadata": {
        "id": "1jx6hqsX9q3j",
        "outputId": "963dfc6a-3618-44a0-cce5-2ec3b87caf07"
      },
      "outputs": [
        {
          "data": {
            "text/plain": [
              "nFix        4.752511\n",
              "FFD         1.315503\n",
              "GPT         1.797553\n",
              "TRT         1.654981\n",
              "fixProp    27.920412\n",
              "dtype: float64"
            ]
          },
          "execution_count": 29,
          "metadata": {},
          "output_type": "execute_result"
        }
      ],
      "source": [
        "df[df['word'] == 'he'][number_list].mean()"
      ]
    },
    {
      "cell_type": "code",
      "execution_count": null,
      "metadata": {
        "id": "lvyVRcXI9q3j"
      },
      "outputs": [],
      "source": [
        "df_uniq = pd.DataFrame(my_df, columns = number_list)"
      ]
    },
    {
      "cell_type": "code",
      "execution_count": null,
      "metadata": {
        "id": "h12L4xII9q3j"
      },
      "outputs": [],
      "source": [
        "df_uniq.insert(0, \"word\", list(df_dict.keys()), True)"
      ]
    },
    {
      "cell_type": "code",
      "execution_count": null,
      "metadata": {
        "id": "0vt-2KcI9q3k",
        "outputId": "fb08ed80-bb0a-429b-9f06-4f0b2cf57c50"
      },
      "outputs": [
        {
          "data": {
            "text/html": [
              "<div>\n",
              "<style scoped>\n",
              "    .dataframe tbody tr th:only-of-type {\n",
              "        vertical-align: middle;\n",
              "    }\n",
              "\n",
              "    .dataframe tbody tr th {\n",
              "        vertical-align: top;\n",
              "    }\n",
              "\n",
              "    .dataframe thead th {\n",
              "        text-align: right;\n",
              "    }\n",
              "</style>\n",
              "<table border=\"1\" class=\"dataframe\">\n",
              "  <thead>\n",
              "    <tr style=\"text-align: right;\">\n",
              "      <th></th>\n",
              "      <th>word</th>\n",
              "      <th>nFix</th>\n",
              "      <th>FFD</th>\n",
              "      <th>GPT</th>\n",
              "      <th>TRT</th>\n",
              "      <th>fixProp</th>\n",
              "    </tr>\n",
              "  </thead>\n",
              "  <tbody>\n",
              "    <tr>\n",
              "      <th>0</th>\n",
              "      <td>the</td>\n",
              "      <td>8.089145</td>\n",
              "      <td>2.037560</td>\n",
              "      <td>3.279184</td>\n",
              "      <td>2.620190</td>\n",
              "      <td>46.250203</td>\n",
              "    </tr>\n",
              "    <tr>\n",
              "      <th>1</th>\n",
              "      <td>of</td>\n",
              "      <td>5.558040</td>\n",
              "      <td>1.492221</td>\n",
              "      <td>2.538022</td>\n",
              "      <td>1.791782</td>\n",
              "      <td>33.937491</td>\n",
              "    </tr>\n",
              "    <tr>\n",
              "      <th>2</th>\n",
              "      <td>and</td>\n",
              "      <td>7.638862</td>\n",
              "      <td>1.941896</td>\n",
              "      <td>3.306894</td>\n",
              "      <td>2.450817</td>\n",
              "      <td>44.722639</td>\n",
              "    </tr>\n",
              "    <tr>\n",
              "      <th>3</th>\n",
              "      <td>a</td>\n",
              "      <td>5.309940</td>\n",
              "      <td>1.491783</td>\n",
              "      <td>2.447444</td>\n",
              "      <td>1.775713</td>\n",
              "      <td>32.829983</td>\n",
              "    </tr>\n",
              "    <tr>\n",
              "      <th>4</th>\n",
              "      <td>in</td>\n",
              "      <td>5.313665</td>\n",
              "      <td>1.489553</td>\n",
              "      <td>2.466216</td>\n",
              "      <td>1.798441</td>\n",
              "      <td>32.379519</td>\n",
              "    </tr>\n",
              "    <tr>\n",
              "      <th>...</th>\n",
              "      <td>...</td>\n",
              "      <td>...</td>\n",
              "      <td>...</td>\n",
              "      <td>...</td>\n",
              "      <td>...</td>\n",
              "      <td>...</td>\n",
              "    </tr>\n",
              "    <tr>\n",
              "      <th>4395</th>\n",
              "      <td>swedish</td>\n",
              "      <td>24.137931</td>\n",
              "      <td>4.171965</td>\n",
              "      <td>6.316368</td>\n",
              "      <td>7.849067</td>\n",
              "      <td>83.333333</td>\n",
              "    </tr>\n",
              "    <tr>\n",
              "      <th>4396</th>\n",
              "      <td>curves</td>\n",
              "      <td>14.942529</td>\n",
              "      <td>3.625554</td>\n",
              "      <td>4.642771</td>\n",
              "      <td>5.161689</td>\n",
              "      <td>66.666667</td>\n",
              "    </tr>\n",
              "    <tr>\n",
              "      <th>4397</th>\n",
              "      <td>described</td>\n",
              "      <td>18.390805</td>\n",
              "      <td>3.773326</td>\n",
              "      <td>19.523008</td>\n",
              "      <td>6.354170</td>\n",
              "      <td>91.666667</td>\n",
              "    </tr>\n",
              "    <tr>\n",
              "      <th>4398</th>\n",
              "      <td>louisa</td>\n",
              "      <td>31.034483</td>\n",
              "      <td>4.800852</td>\n",
              "      <td>5.474415</td>\n",
              "      <td>11.835458</td>\n",
              "      <td>100.000000</td>\n",
              "    </tr>\n",
              "    <tr>\n",
              "      <th>4399</th>\n",
              "      <td>pursued</td>\n",
              "      <td>17.241379</td>\n",
              "      <td>4.412523</td>\n",
              "      <td>7.529468</td>\n",
              "      <td>5.185745</td>\n",
              "      <td>100.000000</td>\n",
              "    </tr>\n",
              "  </tbody>\n",
              "</table>\n",
              "<p>4400 rows × 6 columns</p>\n",
              "</div>"
            ],
            "text/plain": [
              "           word       nFix       FFD        GPT        TRT     fixProp\n",
              "0           the   8.089145  2.037560   3.279184   2.620190   46.250203\n",
              "1            of   5.558040  1.492221   2.538022   1.791782   33.937491\n",
              "2           and   7.638862  1.941896   3.306894   2.450817   44.722639\n",
              "3             a   5.309940  1.491783   2.447444   1.775713   32.829983\n",
              "4            in   5.313665  1.489553   2.466216   1.798441   32.379519\n",
              "...         ...        ...       ...        ...        ...         ...\n",
              "4395    swedish  24.137931  4.171965   6.316368   7.849067   83.333333\n",
              "4396     curves  14.942529  3.625554   4.642771   5.161689   66.666667\n",
              "4397  described  18.390805  3.773326  19.523008   6.354170   91.666667\n",
              "4398     louisa  31.034483  4.800852   5.474415  11.835458  100.000000\n",
              "4399    pursued  17.241379  4.412523   7.529468   5.185745  100.000000\n",
              "\n",
              "[4400 rows x 6 columns]"
            ]
          },
          "execution_count": 32,
          "metadata": {},
          "output_type": "execute_result"
        }
      ],
      "source": [
        "df_uniq"
      ]
    },
    {
      "cell_type": "code",
      "execution_count": null,
      "metadata": {
        "id": "G-e-iQ_A9q3k"
      },
      "outputs": [],
      "source": [
        "df_new  = df_uniq.copy()\n",
        "df_new = df_new.set_index('word')"
      ]
    },
    {
      "cell_type": "code",
      "execution_count": null,
      "metadata": {
        "id": "S_-jhrRg9q3k"
      },
      "outputs": [],
      "source": [
        "outputs = similar_words(df_new)"
      ]
    },
    {
      "cell_type": "code",
      "execution_count": null,
      "metadata": {
        "id": "sPenNfuE9q3k",
        "outputId": "eb263604-f322-45d5-c252-f66f9539ac37"
      },
      "outputs": [
        {
          "name": "stdout",
          "output_type": "stream",
          "text": [
            "the: ['for' 'his' 'why' 'let' 'search' 'an' 'but' 'she' 'speak' 'and']\n",
            "of: ['a' 'spine' 'ship' 'lofty' 'o' 'in' 'ask' 'to' 'sea' 'sit']\n",
            "and: ['an' 'us' 'ike' 'search' 'as' 'any' 'let' 'the' 'et' 'why']\n",
            "a: ['in' 'spine' 'ship' 'of' 'lofty' 'o' 'ask' 'sea' 'sit' 'busy']\n",
            "in: ['a' 'spine' 'ship' 'lofty' 'o' 'of' 'ask' 'sea' 'sit' 'busy']\n",
            "to: ['do' 'of' 'at' 'sad' 'tv' 'spine' 'by' 'ship' 'lofty' 'o']\n",
            "was: ['from' 'since' 'left' 'novel' 'got' 'one' 'while' 'central' 'did' 'man']\n",
            "he: ['we' 'lilo' 'it' 'al' 'line' 'alive' 'our' 'brain' 'in' 'ken']\n",
            "his: ['for' 'but' 'the' 'she' 'speak' 'why' 'let' 'study' 'park' 'search']\n",
            "is: ['girl' 'on' 'gift' 'or' 'by' 'nor' 'wade' 'yarn' 'cox' 'gaze']\n",
            "as: ['up' 'ike' 'us' 'and' 'et' 'any' 'all' 'an' 'search' 'wade']\n",
            "for: ['the' 'his' 'let' 'but' 'she' 'an' 'why' 'speak' 'search' 'and']\n",
            "with: ['get' 'iii' 'my' 'how' 'not' 'this' 'into' 'who' 'until' 'said']\n",
            "that: ['go' 'five' 'just' 'vote' 'face' 'after' 'yet' 'out' 'want' 'fit']\n",
            "on: ['or' 'gift' 'nor' 'wade' 'is' 'day' 'yarn' 'cox' 'up' 'gaze']\n",
            "an: ['and' 'us' 'search' 'ike' 'the' 'let' 'why' 'for' 'any' 'sir']\n",
            "from: ['man' 'novel' 'one' 'was' 'did' 'pat' 'got' 'central' 'since' 'four']\n",
            "it: ['lilo' 'we' 'he' 'line' 'alive' 'our' 'brain' 'al' 'ken' 'shrike']\n",
            "at: ['by' 'tv' 'sad' 'girl' 'do' 'to' 'is' 'on' 'crossfire' 'gift']\n",
            "by: ['at' 'sad' 'girl' 'tv' 'is' 'to' 'do' 'on' 'gift' 'or']\n",
            "but: ['his' 'the' 'speak' 'for' 'park' 'why' 'gifts' 'fill' 'she' 'be']\n",
            "this: ['my' 'are' 'arrow' 'iii' 'they' 'with' 'her' 'get' 'will' 'not']\n",
            "who: ['until' 'want' 'joel' 'hotel' 'least' 'into' 'piss' 'spat' 'luvvies'\n",
            " 'kids']\n",
            "one: ['man' 'did' 'from' 'pat' 'got' 'novel' 'central' 'was' 'too' 'firm']\n",
            "film: ['two' 'central' 'york' 'fun' 'adolf' 'cast' 'season' 'four' 'pat' 'got']\n",
            "movie: ['organism' 'enough' 'local' 'bookkeeper' 'crime' 'soul' 'ronald' 'lacks'\n",
            " 'blade' 'outlines']\n",
            "be: ['so' 'its' 'bit' 'tod' 'tub' 'gifts' 'no' 'move' 'golf' 'sly']\n",
            "bush: ['states' 'even' 'name' 'bring' 'music' 'what' 'york' 'over' 'love' 'took']\n",
            "she: ['speak' 'his' 'for' 'the' 'study' 'let' 'de' 'but' 'rob' 'fill']\n",
            "its: ['so' 'be' 'move' 'vulgar' 'bit' 'tod' 'tub' 'no' 'sly' 'art']\n",
            "has: ['after' 'fit' 'end' 'just' 'parts' 'blood' 'moral' 'aide' 'griffin' 'go']\n",
            "after: ['just' 'has' 'go' 'blood' 'fit' 'parts' 'piss' 'want' 'that' 'luvvies']\n",
            "her: ['six' 'arrow' 'are' 'this' 'you' 'him' 'my' 'smile' 'like' 'they']\n",
            "american: ['daughter' 'smoke' 'campaign' 'mathematics' 'owned' 'socialist' 'against'\n",
            " 'debby' 'monroe' 'electoral']\n",
            "president: ['socialist' 'talented' 'outside' 'joseph' 'trophy' 'movies' 'quickly'\n",
            " 'successful' 'authority' 'before']\n",
            "new: ['much' 'wife' 'junior' 'potter' 'very' 'vein' 'other' 'cat' 'within'\n",
            " 'had']\n",
            "also: ['dull' 'lady' 'most' 'well' 'both' 'their' 'east' 'san' 'title' 'tank']\n",
            "not: ['will' 'into' 'my' 'they' 'with' 'get' 'able' 'iii' 'this' 'who']\n",
            "have: ['high' 'had' 'use' 'cash' 'matt' 'roles' 'bart' 'list' 'hosts' 'potter']\n",
            "had: ['potter' 'high' 'use' 'have' 'now' 'list' 'night' 'much' 'junior' 'new']\n",
            "were: ['prize' 'hunter' 'roles' 'keep' 'would' 'mini' 'ran' 'such' 'fourth'\n",
            " 'child']\n",
            "most: ['rest' 'lady' 'also' 'none' 'dull' 'their' 'lived' 'tank' 'now' 'east']\n",
            "born: ['under' 'union' 'more' 'grant' 'about' 'sublimely' 'mother' 'earliest'\n",
            " 'liberating' 'talk']\n",
            "which: ['find' 'air' 'stay' 'taking' 'ward' 'jolts' 'del' 'casino' 'lips'\n",
            " 'careers']\n",
            "first: ['films' 'sense' 'keep' 'mini' 'such' 'came' 'would' 'heart' 'dry' 'where']\n",
            "all: ['up' 'ii' 'day' 'as' 'rap' 'or' 'any' 'et' 'on' 'nor']\n",
            "like: ['taken' 'arrow' 'six' 'this' 'are' 'her' 'upon' 'iii' 'hey' 'my']\n",
            "george: ['rose' 'clear' 'crazy' 'county' 'every' 'grammy' 'shirt' 'university'\n",
            " 'powers' 'disco']\n",
            "about: ['more' 'died' 'state' 'under' 'born' 'talk' 'facts' 'grant' 'tigers'\n",
            " 'writing']\n",
            "more: ['about' 'under' 'born' 'union' 'state' 'died' 'some' 'printer' 'facts'\n",
            " 'grant']\n"
          ]
        }
      ],
      "source": [
        "for i in range(50):\n",
        "    print(f'{df_uniq.word.values[i]}: {outputs[i]}')"
      ]
    },
    {
      "cell_type": "code",
      "execution_count": null,
      "metadata": {
        "id": "LKCuyR7N9q3k"
      },
      "outputs": [],
      "source": [
        "# df_uniq.to_csv('../data/Zuco_uniq.csv', index=False)\n",
        "df_uniq = pd.read_csv(\"/content/Zuco_uniq.csv\")"
      ]
    },
    {
      "cell_type": "code",
      "execution_count": null,
      "metadata": {
        "id": "sEj5otDx9q3l",
        "outputId": "941469e3-2f12-4d16-b8df-9ffca39de482"
      },
      "outputs": [
        {
          "data": {
            "text/plain": [
              "array(['king', 'fight', 'inning', 'says', 'hans', 'core', 'soldiers',\n",
              "       'little', 'twice', 'ford'], dtype=object)"
            ]
          },
          "execution_count": 38,
          "metadata": {},
          "output_type": "execute_result"
        }
      ],
      "source": [
        "distance_vector = []\n",
        "for i in df_uniq.word.values:\n",
        "    distance_vector.append(math.dist(word_vector(i), (word_vector('father') - word_vector('mother')+ word_vector('son'))))\n",
        "    \n",
        "distance_vector = np.array(distance_vector)\n",
        "top_k_ids = np.argsort(distance_vector, 0)[:10]\n",
        "df_uniq.word.values[top_k_ids]"
      ]
    },
    {
      "cell_type": "code",
      "execution_count": null,
      "metadata": {
        "id": "Ur-H0l759q3l"
      },
      "outputs": [],
      "source": [
        "def calculate_sim(vector, k):\n",
        "    distance_vector = []\n",
        "    for i in df_uniq.word.values:\n",
        "        distance_vector.append(math.dist(word_vector(i), vector))\n",
        "        \n",
        "    distance_vector = np.array(distance_vector)\n",
        "    top_k_ids = np.argsort(distance_vector, 0)[:k]\n",
        "    return df_uniq.word.values[top_k_ids]"
      ]
    },
    {
      "cell_type": "code",
      "execution_count": null,
      "metadata": {
        "id": "hk_Aovjo9q3l",
        "outputId": "3e28030a-659a-4f22-80cd-2df0fbd101c0"
      },
      "outputs": [
        {
          "data": {
            "text/plain": [
              "'woman'"
            ]
          },
          "execution_count": 40,
          "metadata": {},
          "output_type": "execute_result"
        }
      ],
      "source": [
        "calculate_sim(word_vector('she') - word_vector('he') + word_vector('man'), 28)[27]"
      ]
    },
    {
      "cell_type": "code",
      "execution_count": null,
      "metadata": {
        "id": "l9xWoPb29q3l"
      },
      "outputs": [],
      "source": [
        "# calculate_sim(word_vector('father') - word_vector('mother') + word_vector('son'), 2113)"
      ]
    },
    {
      "cell_type": "markdown",
      "metadata": {
        "id": "R1YrpVGs9q3l"
      },
      "source": [
        "## TSNE"
      ]
    },
    {
      "cell_type": "code",
      "execution_count": null,
      "metadata": {
        "id": "vk9uVecPc3dH"
      },
      "outputs": [],
      "source": [
        "df_uniq_100 = df_uniq.head(100)"
      ]
    },
    {
      "cell_type": "code",
      "execution_count": null,
      "metadata": {
        "colab": {
          "base_uri": "https://localhost:8080/"
        },
        "id": "kOpVpbaUfzwm",
        "outputId": "acdc4c76-f730-4d4e-c835-e58aba18c919"
      },
      "outputs": [
        {
          "name": "stderr",
          "output_type": "stream",
          "text": [
            "[nltk_data] Downloading package brown to /root/nltk_data...\n",
            "[nltk_data]   Unzipping corpora/brown.zip.\n",
            "[nltk_data] Downloading package universal_tagset to /root/nltk_data...\n",
            "[nltk_data]   Unzipping taggers/universal_tagset.zip.\n"
          ]
        },
        {
          "data": {
            "text/plain": [
              "True"
            ]
          },
          "execution_count": 12,
          "metadata": {},
          "output_type": "execute_result"
        }
      ],
      "source": [
        "import nltk\n",
        "nltk.download('brown')\n",
        "nltk.download('universal_tagset')"
      ]
    },
    {
      "cell_type": "code",
      "execution_count": null,
      "metadata": {
        "id": "Slot9ke_fhuv"
      },
      "outputs": [],
      "source": [
        "wordtags = nltk.ConditionalFreqDist((w.lower(), t) for w, t in nltk.corpus.brown.tagged_words(tagset=\"universal\"))"
      ]
    },
    {
      "cell_type": "code",
      "execution_count": null,
      "metadata": {
        "colab": {
          "base_uri": "https://localhost:8080/"
        },
        "id": "rYfoP3oSfhz6",
        "outputId": "aa630a98-e376-466e-c18c-0344afa0e7cd"
      },
      "outputs": [
        {
          "data": {
            "text/plain": [
              "['NOUN', 'ADJ']"
            ]
          },
          "execution_count": 15,
          "metadata": {},
          "output_type": "execute_result"
        }
      ],
      "source": [
        "list(wordtags[\"kind\"])"
      ]
    },
    {
      "cell_type": "code",
      "execution_count": null,
      "metadata": {
        "id": "1WnpD2krhN4c"
      },
      "outputs": [],
      "source": [
        "tags = []\n",
        "for i in df_uniq_100.word.values:\n",
        "  tags.append(list(wordtags[i])[0])\n",
        "  # print(f'{i}: {}')"
      ]
    },
    {
      "cell_type": "markdown",
      "metadata": {
        "id": "wbllMMbmgoaX"
      },
      "source": [
        "### Plot 1"
      ]
    },
    {
      "cell_type": "code",
      "execution_count": null,
      "metadata": {
        "colab": {
          "base_uri": "https://localhost:8080/",
          "height": 1000
        },
        "id": "WQbmku8nMIXu",
        "outputId": "1409a651-102e-4c8a-831b-2443cf235857"
      },
      "outputs": [
        {
          "name": "stderr",
          "output_type": "stream",
          "text": [
            "/usr/local/lib/python3.8/dist-packages/sklearn/manifold/_t_sne.py:790: FutureWarning: The default learning rate in TSNE will change from 200.0 to 'auto' in 1.2.\n",
            "  warnings.warn(\n",
            "/usr/local/lib/python3.8/dist-packages/sklearn/manifold/_t_sne.py:982: FutureWarning: The PCA initialization in TSNE will change to have the standard deviation of PC1 equal to 1e-4 in 1.2. This will ensure better convergence.\n",
            "  warnings.warn(\n"
          ]
        },
        {
          "data": {
            "text/html": [
              "<html>\n",
              "<head><meta charset=\"utf-8\" /></head>\n",
              "<body>\n",
              "    <div>            <script src=\"https://cdnjs.cloudflare.com/ajax/libs/mathjax/2.7.5/MathJax.js?config=TeX-AMS-MML_SVG\"></script><script type=\"text/javascript\">if (window.MathJax) {MathJax.Hub.Config({SVG: {font: \"STIX-Web\"}});}</script>                <script type=\"text/javascript\">window.PlotlyConfig = {MathJaxConfig: 'local'};</script>\n",
              "        <script src=\"https://cdn.plot.ly/plotly-2.8.3.min.js\"></script>                <div id=\"a048eccf-5683-425f-86ca-003ad7475855\" class=\"plotly-graph-div\" style=\"height:1800px; width:1800px;\"></div>            <script type=\"text/javascript\">                                    window.PLOTLYENV=window.PLOTLYENV || {};                                    if (document.getElementById(\"a048eccf-5683-425f-86ca-003ad7475855\")) {                    Plotly.newPlot(                        \"a048eccf-5683-425f-86ca-003ad7475855\",                        [{\"hovertemplate\":\"POS=DET<br>X=%{x}<br>Y=%{y}<br>labels=%{text}<extra></extra>\",\"legendgroup\":\"DET\",\"marker\":{\"color\":\"#636efa\",\"symbol\":\"circle\",\"line\":{\"color\":\"DarkSlateGrey\",\"width\":2},\"size\":12},\"mode\":\"markers+text\",\"name\":\"DET\",\"orientation\":\"v\",\"showlegend\":true,\"text\":[\"the\",\"a\",\"his\",\"an\",\"this\",\"its\",\"her\",\"which\",\"both\",\"their\",\"some\"],\"x\":[-1.5266529321670532,-1.8493947982788086,-1.781900405883789,-1.8728382587432861,-1.278769612312317,-1.573443055152893,-1.3763387203216553,-0.9897039532661438,-0.9919360876083374,-0.7655413746833801,-0.7674116492271423],\"xaxis\":\"x\",\"y\":[4.444157123565674,5.7649664878845215,4.279959201812744,4.568350315093994,2.7420876026153564,3.8067774772644043,2.991572141647339,-3.3305623531341553,-1.3541690111160278,-1.2521944046020508,-3.645735025405884],\"yaxis\":\"y\",\"type\":\"scatter\",\"textposition\":[\"top center\",\"bottom center\",\"top center\",\"bottom center\",\"top center\",\"bottom center\",\"top center\",\"bottom center\",\"top center\",\"bottom center\",\"top center\",\"bottom center\",\"top center\",\"bottom center\",\"top center\",\"bottom center\",\"top center\",\"bottom center\",\"top center\",\"bottom center\",\"top center\",\"bottom center\",\"top center\",\"bottom center\",\"top center\",\"bottom center\",\"top center\",\"bottom center\",\"top center\",\"bottom center\",\"top center\",\"bottom center\",\"top center\",\"bottom center\",\"top center\",\"bottom center\",\"top center\",\"bottom center\",\"top center\",\"bottom center\",\"top center\",\"bottom center\",\"top center\",\"bottom center\",\"top center\",\"bottom center\",\"top center\",\"bottom center\",\"top center\",\"bottom center\",\"top center\",\"bottom center\",\"top center\",\"bottom center\",\"top center\",\"bottom center\",\"top center\",\"bottom center\",\"top center\",\"bottom center\",\"top center\",\"bottom center\",\"top center\",\"bottom center\",\"top center\",\"bottom center\",\"top center\",\"bottom center\",\"top center\",\"bottom center\",\"top center\",\"bottom center\",\"top center\",\"bottom center\",\"top center\",\"bottom center\",\"top center\",\"bottom center\",\"top center\",\"bottom center\",\"top center\",\"bottom center\",\"top center\",\"bottom center\",\"top center\",\"bottom center\",\"top center\",\"bottom center\",\"top center\",\"bottom center\",\"top center\",\"bottom center\",\"top center\",\"bottom center\",\"top center\",\"bottom center\",\"top center\",\"bottom center\",\"top center\",\"bottom center\"]},{\"hovertemplate\":\"POS=ADP<br>X=%{x}<br>Y=%{y}<br>labels=%{text}<extra></extra>\",\"legendgroup\":\"ADP\",\"marker\":{\"color\":\"#EF553B\",\"symbol\":\"circle\",\"line\":{\"color\":\"DarkSlateGrey\",\"width\":2},\"size\":12},\"mode\":\"markers+text\",\"name\":\"ADP\",\"orientation\":\"v\",\"showlegend\":true,\"text\":[\"of\",\"in\",\"as\",\"for\",\"with\",\"that\",\"on\",\"from\",\"at\",\"by\",\"after\",\"like\",\"about\",\"during\",\"while\",\"than\",\"into\",\"if\",\"until\"],\"x\":[-1.785601019859314,-1.8539719581604004,-1.55647873878479,-1.8322718143463135,-1.2260723114013672,-1.2530252933502197,-1.9009259939193726,-1.1278576850891113,-1.9436720609664917,-1.6470774412155151,-1.3060994148254395,-1.276578426361084,-0.6372191309928894,-0.31118646264076233,-1.206616759300232,-1.113507628440857,-1.4599871635437012,-1.8704581260681152,-1.2893381118774414],\"xaxis\":\"x\",\"y\":[5.690038681030273,5.794195175170898,4.80631160736084,4.363753318786621,2.470637798309326,1.6140786409378052,5.031418800354004,0.34293100237846375,5.3677144050598145,5.362074375152588,1.8841782808303833,2.99052357673645,-3.5469961166381836,-3.305753469467163,0.2096121460199356,0.7168346047401428,2.395540475845337,6.326857089996338,2.1193666458129883],\"yaxis\":\"y\",\"type\":\"scatter\",\"textposition\":[\"top center\",\"bottom center\",\"top center\",\"bottom center\",\"top center\",\"bottom center\",\"top center\",\"bottom center\",\"top center\",\"bottom center\",\"top center\",\"bottom center\",\"top center\",\"bottom center\",\"top center\",\"bottom center\",\"top center\",\"bottom center\",\"top center\",\"bottom center\",\"top center\",\"bottom center\",\"top center\",\"bottom center\",\"top center\",\"bottom center\",\"top center\",\"bottom center\",\"top center\",\"bottom center\",\"top center\",\"bottom center\",\"top center\",\"bottom center\",\"top center\",\"bottom center\",\"top center\",\"bottom center\",\"top center\",\"bottom center\",\"top center\",\"bottom center\",\"top center\",\"bottom center\",\"top center\",\"bottom center\",\"top center\",\"bottom center\",\"top center\",\"bottom center\",\"top center\",\"bottom center\",\"top center\",\"bottom center\",\"top center\",\"bottom center\",\"top center\",\"bottom center\",\"top center\",\"bottom center\",\"top center\",\"bottom center\",\"top center\",\"bottom center\",\"top center\",\"bottom center\",\"top center\",\"bottom center\",\"top center\",\"bottom center\",\"top center\",\"bottom center\",\"top center\",\"bottom center\",\"top center\",\"bottom center\",\"top center\",\"bottom center\",\"top center\",\"bottom center\",\"top center\",\"bottom center\",\"top center\",\"bottom center\",\"top center\",\"bottom center\",\"top center\",\"bottom center\",\"top center\",\"bottom center\",\"top center\",\"bottom center\",\"top center\",\"bottom center\",\"top center\",\"bottom center\",\"top center\",\"bottom center\",\"top center\",\"bottom center\"]},{\"hovertemplate\":\"POS=CONJ<br>X=%{x}<br>Y=%{y}<br>labels=%{text}<extra></extra>\",\"legendgroup\":\"CONJ\",\"marker\":{\"color\":\"#00cc96\",\"symbol\":\"circle\",\"line\":{\"color\":\"DarkSlateGrey\",\"width\":2},\"size\":12},\"mode\":\"markers+text\",\"name\":\"CONJ\",\"orientation\":\"v\",\"showlegend\":true,\"text\":[\"and\",\"but\",\"or\"],\"x\":[-1.5366754531860352,-1.7616353034973145,-1.907293677330017],\"xaxis\":\"x\",\"y\":[4.661881923675537,4.226382732391357,5.010678768157959],\"yaxis\":\"y\",\"type\":\"scatter\",\"textposition\":[\"top center\",\"bottom center\",\"top center\",\"bottom center\",\"top center\",\"bottom center\",\"top center\",\"bottom center\",\"top center\",\"bottom center\",\"top center\",\"bottom center\",\"top center\",\"bottom center\",\"top center\",\"bottom center\",\"top center\",\"bottom center\",\"top center\",\"bottom center\",\"top center\",\"bottom center\",\"top center\",\"bottom center\",\"top center\",\"bottom center\",\"top center\",\"bottom center\",\"top center\",\"bottom center\",\"top center\",\"bottom center\",\"top center\",\"bottom center\",\"top center\",\"bottom center\",\"top center\",\"bottom center\",\"top center\",\"bottom center\",\"top center\",\"bottom center\",\"top center\",\"bottom center\",\"top center\",\"bottom center\",\"top center\",\"bottom center\",\"top center\",\"bottom center\",\"top center\",\"bottom center\",\"top center\",\"bottom center\",\"top center\",\"bottom center\",\"top center\",\"bottom center\",\"top center\",\"bottom center\",\"top center\",\"bottom center\",\"top center\",\"bottom center\",\"top center\",\"bottom center\",\"top center\",\"bottom center\",\"top center\",\"bottom center\",\"top center\",\"bottom center\",\"top center\",\"bottom center\",\"top center\",\"bottom center\",\"top center\",\"bottom center\",\"top center\",\"bottom center\",\"top center\",\"bottom center\",\"top center\",\"bottom center\",\"top center\",\"bottom center\",\"top center\",\"bottom center\",\"top center\",\"bottom center\",\"top center\",\"bottom center\",\"top center\",\"bottom center\",\"top center\",\"bottom center\",\"top center\",\"bottom center\",\"top center\",\"bottom center\"]},{\"hovertemplate\":\"POS=PRT<br>X=%{x}<br>Y=%{y}<br>labels=%{text}<extra></extra>\",\"legendgroup\":\"PRT\",\"marker\":{\"color\":\"#ab63fa\",\"symbol\":\"circle\",\"line\":{\"color\":\"DarkSlateGrey\",\"width\":2},\"size\":12},\"mode\":\"markers+text\",\"name\":\"PRT\",\"orientation\":\"v\",\"showlegend\":true,\"text\":[\"to\",\"all\"],\"x\":[-1.9322776794433594,-1.9188416004180908],\"xaxis\":\"x\",\"y\":[5.539944171905518,4.855849742889404],\"yaxis\":\"y\",\"type\":\"scatter\",\"textposition\":[\"top center\",\"bottom center\",\"top center\",\"bottom center\",\"top center\",\"bottom center\",\"top center\",\"bottom center\",\"top center\",\"bottom center\",\"top center\",\"bottom center\",\"top center\",\"bottom center\",\"top center\",\"bottom center\",\"top center\",\"bottom center\",\"top center\",\"bottom center\",\"top center\",\"bottom center\",\"top center\",\"bottom center\",\"top center\",\"bottom center\",\"top center\",\"bottom center\",\"top center\",\"bottom center\",\"top center\",\"bottom center\",\"top center\",\"bottom center\",\"top center\",\"bottom center\",\"top center\",\"bottom center\",\"top center\",\"bottom center\",\"top center\",\"bottom center\",\"top center\",\"bottom center\",\"top center\",\"bottom center\",\"top center\",\"bottom center\",\"top center\",\"bottom center\",\"top center\",\"bottom center\",\"top center\",\"bottom center\",\"top center\",\"bottom center\",\"top center\",\"bottom center\",\"top center\",\"bottom center\",\"top center\",\"bottom center\",\"top center\",\"bottom center\",\"top center\",\"bottom center\",\"top center\",\"bottom center\",\"top center\",\"bottom center\",\"top center\",\"bottom center\",\"top center\",\"bottom center\",\"top center\",\"bottom center\",\"top center\",\"bottom center\",\"top center\",\"bottom center\",\"top center\",\"bottom center\",\"top center\",\"bottom center\",\"top center\",\"bottom center\",\"top center\",\"bottom center\",\"top center\",\"bottom center\",\"top center\",\"bottom center\",\"top center\",\"bottom center\",\"top center\",\"bottom center\",\"top center\",\"bottom center\",\"top center\",\"bottom center\"]},{\"hovertemplate\":\"POS=VERB<br>X=%{x}<br>Y=%{y}<br>labels=%{text}<extra></extra>\",\"legendgroup\":\"VERB\",\"marker\":{\"color\":\"#FFA15A\",\"symbol\":\"circle\",\"line\":{\"color\":\"DarkSlateGrey\",\"width\":2},\"size\":12},\"mode\":\"markers+text\",\"name\":\"VERB\",\"orientation\":\"v\",\"showlegend\":true,\"text\":[\"was\",\"is\",\"be\",\"has\",\"have\",\"had\",\"were\",\"born\",\"became\",\"united\",\"been\",\"married\",\"will\",\"are\",\"may\",\"would\"],\"x\":[-1.2067550420761108,-1.617276906967163,-1.5871145725250244,-1.3066338300704956,-0.9966462850570679,-0.89171302318573,-0.8750528693199158,-0.6680375337600708,-0.21659976243972778,-0.14451304078102112,-0.28700321912765503,-0.1830967217683792,-1.570775032043457,-1.4963797330856323,-0.4163039028644562,-0.7593847513198853],\"xaxis\":\"x\",\"y\":[0.35891592502593994,5.198970794677734,3.902195692062378,1.958765983581543,-2.2785844802856445,-2.1295506954193115,-2.743609666824341,-3.4422783851623535,-5.247443199157715,-3.3217148780822754,-3.3189656734466553,-5.203602313995361,2.654296875,2.906855821609497,-2.078470230102539,-2.6865768432617188],\"yaxis\":\"y\",\"type\":\"scatter\",\"textposition\":[\"top center\",\"bottom center\",\"top center\",\"bottom center\",\"top center\",\"bottom center\",\"top center\",\"bottom center\",\"top center\",\"bottom center\",\"top center\",\"bottom center\",\"top center\",\"bottom center\",\"top center\",\"bottom center\",\"top center\",\"bottom center\",\"top center\",\"bottom center\",\"top center\",\"bottom center\",\"top center\",\"bottom center\",\"top center\",\"bottom center\",\"top center\",\"bottom center\",\"top center\",\"bottom center\",\"top center\",\"bottom center\",\"top center\",\"bottom center\",\"top center\",\"bottom center\",\"top center\",\"bottom center\",\"top center\",\"bottom center\",\"top center\",\"bottom center\",\"top center\",\"bottom center\",\"top center\",\"bottom center\",\"top center\",\"bottom center\",\"top center\",\"bottom center\",\"top center\",\"bottom center\",\"top center\",\"bottom center\",\"top center\",\"bottom center\",\"top center\",\"bottom center\",\"top center\",\"bottom center\",\"top center\",\"bottom center\",\"top center\",\"bottom center\",\"top center\",\"bottom center\",\"top center\",\"bottom center\",\"top center\",\"bottom center\",\"top center\",\"bottom center\",\"top center\",\"bottom center\",\"top center\",\"bottom center\",\"top center\",\"bottom center\",\"top center\",\"bottom center\",\"top center\",\"bottom center\",\"top center\",\"bottom center\",\"top center\",\"bottom center\",\"top center\",\"bottom center\",\"top center\",\"bottom center\",\"top center\",\"bottom center\",\"top center\",\"bottom center\",\"top center\",\"bottom center\",\"top center\",\"bottom center\",\"top center\",\"bottom center\"]},{\"hovertemplate\":\"POS=PRON<br>X=%{x}<br>Y=%{y}<br>labels=%{text}<extra></extra>\",\"legendgroup\":\"PRON\",\"marker\":{\"color\":\"#19d3f3\",\"symbol\":\"circle\",\"line\":{\"color\":\"DarkSlateGrey\",\"width\":2},\"size\":12},\"mode\":\"markers+text\",\"name\":\"PRON\",\"orientation\":\"v\",\"showlegend\":true,\"text\":[\"he\",\"it\",\"who\",\"she\",\"you\",\"him\",\"they\",\"i\"],\"x\":[-1.8503717184066772,-1.8636947870254517,-1.2883784770965576,-1.481443166732788,-1.5303910970687866,-1.5294904708862305,-1.5682826042175293,-1.8732205629348755],\"xaxis\":\"x\",\"y\":[6.047622203826904,6.1013617515563965,2.170933961868286,4.358090877532959,3.1787726879119873,3.2360615730285645,2.725975513458252,6.421122074127197],\"yaxis\":\"y\",\"type\":\"scatter\",\"textposition\":[\"top center\",\"bottom center\",\"top center\",\"bottom center\",\"top center\",\"bottom center\",\"top center\",\"bottom center\",\"top center\",\"bottom center\",\"top center\",\"bottom center\",\"top center\",\"bottom center\",\"top center\",\"bottom center\",\"top center\",\"bottom center\",\"top center\",\"bottom center\",\"top center\",\"bottom center\",\"top center\",\"bottom center\",\"top center\",\"bottom center\",\"top center\",\"bottom center\",\"top center\",\"bottom center\",\"top center\",\"bottom center\",\"top center\",\"bottom center\",\"top center\",\"bottom center\",\"top center\",\"bottom center\",\"top center\",\"bottom center\",\"top center\",\"bottom center\",\"top center\",\"bottom center\",\"top center\",\"bottom center\",\"top center\",\"bottom center\",\"top center\",\"bottom center\",\"top center\",\"bottom center\",\"top center\",\"bottom center\",\"top center\",\"bottom center\",\"top center\",\"bottom center\",\"top center\",\"bottom center\",\"top center\",\"bottom center\",\"top center\",\"bottom center\",\"top center\",\"bottom center\",\"top center\",\"bottom center\",\"top center\",\"bottom center\",\"top center\",\"bottom center\",\"top center\",\"bottom center\",\"top center\",\"bottom center\",\"top center\",\"bottom center\",\"top center\",\"bottom center\",\"top center\",\"bottom center\",\"top center\",\"bottom center\",\"top center\",\"bottom center\",\"top center\",\"bottom center\",\"top center\",\"bottom center\",\"top center\",\"bottom center\",\"top center\",\"bottom center\",\"top center\",\"bottom center\",\"top center\",\"bottom center\",\"top center\",\"bottom center\"]},{\"hovertemplate\":\"POS=NUM<br>X=%{x}<br>Y=%{y}<br>labels=%{text}<extra></extra>\",\"legendgroup\":\"NUM\",\"marker\":{\"color\":\"#FF6692\",\"symbol\":\"circle\",\"line\":{\"color\":\"DarkSlateGrey\",\"width\":2},\"size\":12},\"mode\":\"markers+text\",\"name\":\"NUM\",\"orientation\":\"v\",\"showlegend\":true,\"text\":[\"one\",\"two\"],\"x\":[-1.0944792032241821,-0.9763988852500916],\"xaxis\":\"x\",\"y\":[0.5277329683303833,-0.16874900460243225],\"yaxis\":\"y\",\"type\":\"scatter\",\"textposition\":[\"top center\",\"bottom center\",\"top center\",\"bottom center\",\"top center\",\"bottom center\",\"top center\",\"bottom center\",\"top center\",\"bottom center\",\"top center\",\"bottom center\",\"top center\",\"bottom center\",\"top center\",\"bottom center\",\"top center\",\"bottom center\",\"top center\",\"bottom center\",\"top center\",\"bottom center\",\"top center\",\"bottom center\",\"top center\",\"bottom center\",\"top center\",\"bottom center\",\"top center\",\"bottom center\",\"top center\",\"bottom center\",\"top center\",\"bottom center\",\"top center\",\"bottom center\",\"top center\",\"bottom center\",\"top center\",\"bottom center\",\"top center\",\"bottom center\",\"top center\",\"bottom center\",\"top center\",\"bottom center\",\"top center\",\"bottom center\",\"top center\",\"bottom center\",\"top center\",\"bottom center\",\"top center\",\"bottom center\",\"top center\",\"bottom center\",\"top center\",\"bottom center\",\"top center\",\"bottom center\",\"top center\",\"bottom center\",\"top center\",\"bottom center\",\"top center\",\"bottom center\",\"top center\",\"bottom center\",\"top center\",\"bottom center\",\"top center\",\"bottom center\",\"top center\",\"bottom center\",\"top center\",\"bottom center\",\"top center\",\"bottom center\",\"top center\",\"bottom center\",\"top center\",\"bottom center\",\"top center\",\"bottom center\",\"top center\",\"bottom center\",\"top center\",\"bottom center\",\"top center\",\"bottom center\",\"top center\",\"bottom center\",\"top center\",\"bottom center\",\"top center\",\"bottom center\",\"top center\",\"bottom center\",\"top center\",\"bottom center\"]},{\"hovertemplate\":\"POS=NOUN<br>X=%{x}<br>Y=%{y}<br>labels=%{text}<extra></extra>\",\"legendgroup\":\"NOUN\",\"marker\":{\"color\":\"#B6E880\",\"symbol\":\"circle\",\"line\":{\"color\":\"DarkSlateGrey\",\"width\":2},\"size\":12},\"mode\":\"markers+text\",\"name\":\"NOUN\",\"orientation\":\"v\",\"showlegend\":true,\"text\":[\"film\",\"movie\",\"bush\",\"president\",\"george\",\"john\",\"family\",\"time\",\"states\",\"son\",\"war\",\"work\",\"world\",\"school\",\"york\",\"kennedy\",\"years\",\"brother\",\"henry\",\"comedy\",\"year\",\"university\",\"ford\"],\"x\":[-0.891652524471283,-0.41979455947875977,-0.7955390214920044,-0.1957225799560547,-0.1766027957201004,-0.5937931537628174,-0.39084306359291077,-0.5094751119613647,-0.7473822236061096,-0.9465234279632568,-0.8054623007774353,-0.3117000162601471,-0.33654043078422546,-0.21530750393867493,-0.8436636328697205,-0.2769447863101959,-0.481118381023407,-0.2920377850532532,-0.08857360482215881,-0.178987517952919,-1.0574692487716675,-0.07224278897047043,-0.21961620450019836],\"xaxis\":\"x\",\"y\":[0.028350645676255226,-4.525000095367432,-0.7693012952804565,-5.239480018615723,-4.6717529296875,-1.9681885242462158,-3.8286805152893066,-0.4833337068557739,-0.7935806512832642,-0.8742247819900513,0.5627649426460266,-2.4684646129608154,-2.644594430923462,-3.8827381134033203,-0.37993428111076355,-4.883516788482666,-0.14930637180805206,-5.000032901763916,-3.8027162551879883,-5.4387407302856445,0.8000187873840332,-4.763756275177002,-1.9652600288391113],\"yaxis\":\"y\",\"type\":\"scatter\",\"textposition\":[\"top center\",\"bottom center\",\"top center\",\"bottom center\",\"top center\",\"bottom center\",\"top center\",\"bottom center\",\"top center\",\"bottom center\",\"top center\",\"bottom center\",\"top center\",\"bottom center\",\"top center\",\"bottom center\",\"top center\",\"bottom center\",\"top center\",\"bottom center\",\"top center\",\"bottom center\",\"top center\",\"bottom center\",\"top center\",\"bottom center\",\"top center\",\"bottom center\",\"top center\",\"bottom center\",\"top center\",\"bottom center\",\"top center\",\"bottom center\",\"top center\",\"bottom center\",\"top center\",\"bottom center\",\"top center\",\"bottom center\",\"top center\",\"bottom center\",\"top center\",\"bottom center\",\"top center\",\"bottom center\",\"top center\",\"bottom center\",\"top center\",\"bottom center\",\"top center\",\"bottom center\",\"top center\",\"bottom center\",\"top center\",\"bottom center\",\"top center\",\"bottom center\",\"top center\",\"bottom center\",\"top center\",\"bottom center\",\"top center\",\"bottom center\",\"top center\",\"bottom center\",\"top center\",\"bottom center\",\"top center\",\"bottom center\",\"top center\",\"bottom center\",\"top center\",\"bottom center\",\"top center\",\"bottom center\",\"top center\",\"bottom center\",\"top center\",\"bottom center\",\"top center\",\"bottom center\",\"top center\",\"bottom center\",\"top center\",\"bottom center\",\"top center\",\"bottom center\",\"top center\",\"bottom center\",\"top center\",\"bottom center\",\"top center\",\"bottom center\",\"top center\",\"bottom center\",\"top center\",\"bottom center\",\"top center\",\"bottom center\"]},{\"hovertemplate\":\"POS=ADJ<br>X=%{x}<br>Y=%{y}<br>labels=%{text}<extra></extra>\",\"legendgroup\":\"ADJ\",\"marker\":{\"color\":\"#FF97FF\",\"symbol\":\"circle\",\"line\":{\"color\":\"DarkSlateGrey\",\"width\":2},\"size\":12},\"mode\":\"markers+text\",\"name\":\"ADJ\",\"orientation\":\"v\",\"showlegend\":true,\"text\":[\"american\",\"new\",\"first\",\"other\",\"best\"],\"x\":[-0.18912169337272644,-0.700434148311615,-0.6326333284378052,-0.7227999567985535,-0.4078037738800049],\"xaxis\":\"x\",\"y\":[-5.327663421630859,-2.2494213581085205,-2.9226934909820557,-2.2268481254577637,-4.128039836883545],\"yaxis\":\"y\",\"type\":\"scatter\",\"textposition\":[\"top center\",\"bottom center\",\"top center\",\"bottom center\",\"top center\",\"bottom center\",\"top center\",\"bottom center\",\"top center\",\"bottom center\",\"top center\",\"bottom center\",\"top center\",\"bottom center\",\"top center\",\"bottom center\",\"top center\",\"bottom center\",\"top center\",\"bottom center\",\"top center\",\"bottom center\",\"top center\",\"bottom center\",\"top center\",\"bottom center\",\"top center\",\"bottom center\",\"top center\",\"bottom center\",\"top center\",\"bottom center\",\"top center\",\"bottom center\",\"top center\",\"bottom center\",\"top center\",\"bottom center\",\"top center\",\"bottom center\",\"top center\",\"bottom center\",\"top center\",\"bottom center\",\"top center\",\"bottom center\",\"top center\",\"bottom center\",\"top center\",\"bottom center\",\"top center\",\"bottom center\",\"top center\",\"bottom center\",\"top center\",\"bottom center\",\"top center\",\"bottom center\",\"top center\",\"bottom center\",\"top center\",\"bottom center\",\"top center\",\"bottom center\",\"top center\",\"bottom center\",\"top center\",\"bottom center\",\"top center\",\"bottom center\",\"top center\",\"bottom center\",\"top center\",\"bottom center\",\"top center\",\"bottom center\",\"top center\",\"bottom center\",\"top center\",\"bottom center\",\"top center\",\"bottom center\",\"top center\",\"bottom center\",\"top center\",\"bottom center\",\"top center\",\"bottom center\",\"top center\",\"bottom center\",\"top center\",\"bottom center\",\"top center\",\"bottom center\",\"top center\",\"bottom center\",\"top center\",\"bottom center\",\"top center\",\"bottom center\"]},{\"hovertemplate\":\"POS=ADV<br>X=%{x}<br>Y=%{y}<br>labels=%{text}<extra></extra>\",\"legendgroup\":\"ADV\",\"marker\":{\"color\":\"#FECB52\",\"symbol\":\"circle\",\"line\":{\"color\":\"DarkSlateGrey\",\"width\":2},\"size\":12},\"mode\":\"markers+text\",\"name\":\"ADV\",\"orientation\":\"v\",\"showlegend\":true,\"text\":[\"also\",\"not\",\"most\",\"more\",\"when\",\"only\",\"later\",\"so\",\"where\",\"just\",\"even\"],\"x\":[-0.9582263231277466,-1.501043677330017,-0.8670273423194885,-0.7071619629859924,-1.2358280420303345,-1.047937273979187,-0.2543734610080719,-1.5835801362991333,-0.8037278056144714,-1.2841798067092896,-0.7130134105682373],\"xaxis\":\"x\",\"y\":[-1.2166327238082886,2.4697070121765137,-1.505681037902832,-3.5143954753875732,-0.41403231024742126,-0.3015974462032318,-2.8500795364379883,3.8429579734802246,-3.0344667434692383,1.7928857803344727,-0.8666638135910034],\"yaxis\":\"y\",\"type\":\"scatter\",\"textposition\":[\"top center\",\"bottom center\",\"top center\",\"bottom center\",\"top center\",\"bottom center\",\"top center\",\"bottom center\",\"top center\",\"bottom center\",\"top center\",\"bottom center\",\"top center\",\"bottom center\",\"top center\",\"bottom center\",\"top center\",\"bottom center\",\"top center\",\"bottom center\",\"top center\",\"bottom center\",\"top center\",\"bottom center\",\"top center\",\"bottom center\",\"top center\",\"bottom center\",\"top center\",\"bottom center\",\"top center\",\"bottom center\",\"top center\",\"bottom center\",\"top center\",\"bottom center\",\"top center\",\"bottom center\",\"top center\",\"bottom center\",\"top center\",\"bottom center\",\"top center\",\"bottom center\",\"top center\",\"bottom center\",\"top center\",\"bottom center\",\"top center\",\"bottom center\",\"top center\",\"bottom center\",\"top center\",\"bottom center\",\"top center\",\"bottom center\",\"top center\",\"bottom center\",\"top center\",\"bottom center\",\"top center\",\"bottom center\",\"top center\",\"bottom center\",\"top center\",\"bottom center\",\"top center\",\"bottom center\",\"top center\",\"bottom center\",\"top center\",\"bottom center\",\"top center\",\"bottom center\",\"top center\",\"bottom center\",\"top center\",\"bottom center\",\"top center\",\"bottom center\",\"top center\",\"bottom center\",\"top center\",\"bottom center\",\"top center\",\"bottom center\",\"top center\",\"bottom center\",\"top center\",\"bottom center\",\"top center\",\"bottom center\",\"top center\",\"bottom center\",\"top center\",\"bottom center\",\"top center\",\"bottom center\",\"top center\",\"bottom center\"]}],                        {\"template\":{\"data\":{\"bar\":[{\"error_x\":{\"color\":\"#2a3f5f\"},\"error_y\":{\"color\":\"#2a3f5f\"},\"marker\":{\"line\":{\"color\":\"white\",\"width\":0.5},\"pattern\":{\"fillmode\":\"overlay\",\"size\":10,\"solidity\":0.2}},\"type\":\"bar\"}],\"barpolar\":[{\"marker\":{\"line\":{\"color\":\"white\",\"width\":0.5},\"pattern\":{\"fillmode\":\"overlay\",\"size\":10,\"solidity\":0.2}},\"type\":\"barpolar\"}],\"carpet\":[{\"aaxis\":{\"endlinecolor\":\"#2a3f5f\",\"gridcolor\":\"#C8D4E3\",\"linecolor\":\"#C8D4E3\",\"minorgridcolor\":\"#C8D4E3\",\"startlinecolor\":\"#2a3f5f\"},\"baxis\":{\"endlinecolor\":\"#2a3f5f\",\"gridcolor\":\"#C8D4E3\",\"linecolor\":\"#C8D4E3\",\"minorgridcolor\":\"#C8D4E3\",\"startlinecolor\":\"#2a3f5f\"},\"type\":\"carpet\"}],\"choropleth\":[{\"colorbar\":{\"outlinewidth\":0,\"ticks\":\"\"},\"type\":\"choropleth\"}],\"contour\":[{\"colorbar\":{\"outlinewidth\":0,\"ticks\":\"\"},\"colorscale\":[[0.0,\"#0d0887\"],[0.1111111111111111,\"#46039f\"],[0.2222222222222222,\"#7201a8\"],[0.3333333333333333,\"#9c179e\"],[0.4444444444444444,\"#bd3786\"],[0.5555555555555556,\"#d8576b\"],[0.6666666666666666,\"#ed7953\"],[0.7777777777777778,\"#fb9f3a\"],[0.8888888888888888,\"#fdca26\"],[1.0,\"#f0f921\"]],\"type\":\"contour\"}],\"contourcarpet\":[{\"colorbar\":{\"outlinewidth\":0,\"ticks\":\"\"},\"type\":\"contourcarpet\"}],\"heatmap\":[{\"colorbar\":{\"outlinewidth\":0,\"ticks\":\"\"},\"colorscale\":[[0.0,\"#0d0887\"],[0.1111111111111111,\"#46039f\"],[0.2222222222222222,\"#7201a8\"],[0.3333333333333333,\"#9c179e\"],[0.4444444444444444,\"#bd3786\"],[0.5555555555555556,\"#d8576b\"],[0.6666666666666666,\"#ed7953\"],[0.7777777777777778,\"#fb9f3a\"],[0.8888888888888888,\"#fdca26\"],[1.0,\"#f0f921\"]],\"type\":\"heatmap\"}],\"heatmapgl\":[{\"colorbar\":{\"outlinewidth\":0,\"ticks\":\"\"},\"colorscale\":[[0.0,\"#0d0887\"],[0.1111111111111111,\"#46039f\"],[0.2222222222222222,\"#7201a8\"],[0.3333333333333333,\"#9c179e\"],[0.4444444444444444,\"#bd3786\"],[0.5555555555555556,\"#d8576b\"],[0.6666666666666666,\"#ed7953\"],[0.7777777777777778,\"#fb9f3a\"],[0.8888888888888888,\"#fdca26\"],[1.0,\"#f0f921\"]],\"type\":\"heatmapgl\"}],\"histogram\":[{\"marker\":{\"pattern\":{\"fillmode\":\"overlay\",\"size\":10,\"solidity\":0.2}},\"type\":\"histogram\"}],\"histogram2d\":[{\"colorbar\":{\"outlinewidth\":0,\"ticks\":\"\"},\"colorscale\":[[0.0,\"#0d0887\"],[0.1111111111111111,\"#46039f\"],[0.2222222222222222,\"#7201a8\"],[0.3333333333333333,\"#9c179e\"],[0.4444444444444444,\"#bd3786\"],[0.5555555555555556,\"#d8576b\"],[0.6666666666666666,\"#ed7953\"],[0.7777777777777778,\"#fb9f3a\"],[0.8888888888888888,\"#fdca26\"],[1.0,\"#f0f921\"]],\"type\":\"histogram2d\"}],\"histogram2dcontour\":[{\"colorbar\":{\"outlinewidth\":0,\"ticks\":\"\"},\"colorscale\":[[0.0,\"#0d0887\"],[0.1111111111111111,\"#46039f\"],[0.2222222222222222,\"#7201a8\"],[0.3333333333333333,\"#9c179e\"],[0.4444444444444444,\"#bd3786\"],[0.5555555555555556,\"#d8576b\"],[0.6666666666666666,\"#ed7953\"],[0.7777777777777778,\"#fb9f3a\"],[0.8888888888888888,\"#fdca26\"],[1.0,\"#f0f921\"]],\"type\":\"histogram2dcontour\"}],\"mesh3d\":[{\"colorbar\":{\"outlinewidth\":0,\"ticks\":\"\"},\"type\":\"mesh3d\"}],\"parcoords\":[{\"line\":{\"colorbar\":{\"outlinewidth\":0,\"ticks\":\"\"}},\"type\":\"parcoords\"}],\"pie\":[{\"automargin\":true,\"type\":\"pie\"}],\"scatter\":[{\"marker\":{\"colorbar\":{\"outlinewidth\":0,\"ticks\":\"\"}},\"type\":\"scatter\"}],\"scatter3d\":[{\"line\":{\"colorbar\":{\"outlinewidth\":0,\"ticks\":\"\"}},\"marker\":{\"colorbar\":{\"outlinewidth\":0,\"ticks\":\"\"}},\"type\":\"scatter3d\"}],\"scattercarpet\":[{\"marker\":{\"colorbar\":{\"outlinewidth\":0,\"ticks\":\"\"}},\"type\":\"scattercarpet\"}],\"scattergeo\":[{\"marker\":{\"colorbar\":{\"outlinewidth\":0,\"ticks\":\"\"}},\"type\":\"scattergeo\"}],\"scattergl\":[{\"marker\":{\"colorbar\":{\"outlinewidth\":0,\"ticks\":\"\"}},\"type\":\"scattergl\"}],\"scattermapbox\":[{\"marker\":{\"colorbar\":{\"outlinewidth\":0,\"ticks\":\"\"}},\"type\":\"scattermapbox\"}],\"scatterpolar\":[{\"marker\":{\"colorbar\":{\"outlinewidth\":0,\"ticks\":\"\"}},\"type\":\"scatterpolar\"}],\"scatterpolargl\":[{\"marker\":{\"colorbar\":{\"outlinewidth\":0,\"ticks\":\"\"}},\"type\":\"scatterpolargl\"}],\"scatterternary\":[{\"marker\":{\"colorbar\":{\"outlinewidth\":0,\"ticks\":\"\"}},\"type\":\"scatterternary\"}],\"surface\":[{\"colorbar\":{\"outlinewidth\":0,\"ticks\":\"\"},\"colorscale\":[[0.0,\"#0d0887\"],[0.1111111111111111,\"#46039f\"],[0.2222222222222222,\"#7201a8\"],[0.3333333333333333,\"#9c179e\"],[0.4444444444444444,\"#bd3786\"],[0.5555555555555556,\"#d8576b\"],[0.6666666666666666,\"#ed7953\"],[0.7777777777777778,\"#fb9f3a\"],[0.8888888888888888,\"#fdca26\"],[1.0,\"#f0f921\"]],\"type\":\"surface\"}],\"table\":[{\"cells\":{\"fill\":{\"color\":\"#EBF0F8\"},\"line\":{\"color\":\"white\"}},\"header\":{\"fill\":{\"color\":\"#C8D4E3\"},\"line\":{\"color\":\"white\"}},\"type\":\"table\"}]},\"layout\":{\"annotationdefaults\":{\"arrowcolor\":\"#2a3f5f\",\"arrowhead\":0,\"arrowwidth\":1},\"autotypenumbers\":\"strict\",\"coloraxis\":{\"colorbar\":{\"outlinewidth\":0,\"ticks\":\"\"}},\"colorscale\":{\"diverging\":[[0,\"#8e0152\"],[0.1,\"#c51b7d\"],[0.2,\"#de77ae\"],[0.3,\"#f1b6da\"],[0.4,\"#fde0ef\"],[0.5,\"#f7f7f7\"],[0.6,\"#e6f5d0\"],[0.7,\"#b8e186\"],[0.8,\"#7fbc41\"],[0.9,\"#4d9221\"],[1,\"#276419\"]],\"sequential\":[[0.0,\"#0d0887\"],[0.1111111111111111,\"#46039f\"],[0.2222222222222222,\"#7201a8\"],[0.3333333333333333,\"#9c179e\"],[0.4444444444444444,\"#bd3786\"],[0.5555555555555556,\"#d8576b\"],[0.6666666666666666,\"#ed7953\"],[0.7777777777777778,\"#fb9f3a\"],[0.8888888888888888,\"#fdca26\"],[1.0,\"#f0f921\"]],\"sequentialminus\":[[0.0,\"#0d0887\"],[0.1111111111111111,\"#46039f\"],[0.2222222222222222,\"#7201a8\"],[0.3333333333333333,\"#9c179e\"],[0.4444444444444444,\"#bd3786\"],[0.5555555555555556,\"#d8576b\"],[0.6666666666666666,\"#ed7953\"],[0.7777777777777778,\"#fb9f3a\"],[0.8888888888888888,\"#fdca26\"],[1.0,\"#f0f921\"]]},\"colorway\":[\"#636efa\",\"#EF553B\",\"#00cc96\",\"#ab63fa\",\"#FFA15A\",\"#19d3f3\",\"#FF6692\",\"#B6E880\",\"#FF97FF\",\"#FECB52\"],\"font\":{\"color\":\"#2a3f5f\"},\"geo\":{\"bgcolor\":\"white\",\"lakecolor\":\"white\",\"landcolor\":\"white\",\"showlakes\":true,\"showland\":true,\"subunitcolor\":\"#C8D4E3\"},\"hoverlabel\":{\"align\":\"left\"},\"hovermode\":\"closest\",\"mapbox\":{\"style\":\"light\"},\"paper_bgcolor\":\"white\",\"plot_bgcolor\":\"white\",\"polar\":{\"angularaxis\":{\"gridcolor\":\"#EBF0F8\",\"linecolor\":\"#EBF0F8\",\"ticks\":\"\"},\"bgcolor\":\"white\",\"radialaxis\":{\"gridcolor\":\"#EBF0F8\",\"linecolor\":\"#EBF0F8\",\"ticks\":\"\"}},\"scene\":{\"xaxis\":{\"backgroundcolor\":\"white\",\"gridcolor\":\"#DFE8F3\",\"gridwidth\":2,\"linecolor\":\"#EBF0F8\",\"showbackground\":true,\"ticks\":\"\",\"zerolinecolor\":\"#EBF0F8\"},\"yaxis\":{\"backgroundcolor\":\"white\",\"gridcolor\":\"#DFE8F3\",\"gridwidth\":2,\"linecolor\":\"#EBF0F8\",\"showbackground\":true,\"ticks\":\"\",\"zerolinecolor\":\"#EBF0F8\"},\"zaxis\":{\"backgroundcolor\":\"white\",\"gridcolor\":\"#DFE8F3\",\"gridwidth\":2,\"linecolor\":\"#EBF0F8\",\"showbackground\":true,\"ticks\":\"\",\"zerolinecolor\":\"#EBF0F8\"}},\"shapedefaults\":{\"line\":{\"color\":\"#2a3f5f\"}},\"ternary\":{\"aaxis\":{\"gridcolor\":\"#DFE8F3\",\"linecolor\":\"#A2B1C6\",\"ticks\":\"\"},\"baxis\":{\"gridcolor\":\"#DFE8F3\",\"linecolor\":\"#A2B1C6\",\"ticks\":\"\"},\"bgcolor\":\"white\",\"caxis\":{\"gridcolor\":\"#DFE8F3\",\"linecolor\":\"#A2B1C6\",\"ticks\":\"\"}},\"title\":{\"x\":0.05},\"xaxis\":{\"automargin\":true,\"gridcolor\":\"#EBF0F8\",\"linecolor\":\"#EBF0F8\",\"ticks\":\"\",\"title\":{\"standoff\":15},\"zerolinecolor\":\"#EBF0F8\",\"zerolinewidth\":2},\"yaxis\":{\"automargin\":true,\"gridcolor\":\"#EBF0F8\",\"linecolor\":\"#EBF0F8\",\"ticks\":\"\",\"title\":{\"standoff\":15},\"zerolinecolor\":\"#EBF0F8\",\"zerolinewidth\":2}}},\"xaxis\":{\"anchor\":\"y\",\"domain\":[0.0,1.0],\"title\":{}},\"yaxis\":{\"anchor\":\"x\",\"domain\":[0.0,1.0],\"title\":{}},\"legend\":{\"title\":{\"text\":\"POS\"},\"tracegroupgap\":0,\"font\":{\"size\":30}},\"margin\":{\"t\":60},\"font\":{\"size\":18},\"autosize\":false,\"width\":1800,\"height\":1800},                        {\"responsive\": true}                    ).then(function(){\n",
              "                            \n",
              "var gd = document.getElementById('a048eccf-5683-425f-86ca-003ad7475855');\n",
              "var x = new MutationObserver(function (mutations, observer) {{\n",
              "        var display = window.getComputedStyle(gd).display;\n",
              "        if (!display || display === 'none') {{\n",
              "            console.log([gd, 'removed!']);\n",
              "            Plotly.purge(gd);\n",
              "            observer.disconnect();\n",
              "        }}\n",
              "}});\n",
              "\n",
              "// Listen for the removal of the full notebook cells\n",
              "var notebookContainer = gd.closest('#notebook-container');\n",
              "if (notebookContainer) {{\n",
              "    x.observe(notebookContainer, {childList: true});\n",
              "}}\n",
              "\n",
              "// Listen for the clearing of the current output cell\n",
              "var outputEl = gd.closest('.output');\n",
              "if (outputEl) {{\n",
              "    x.observe(outputEl, {childList: true});\n",
              "}}\n",
              "\n",
              "                        })                };                            </script>        </div>\n",
              "</body>\n",
              "</html>"
            ]
          },
          "metadata": {},
          "output_type": "display_data"
        },
        {
          "data": {
            "text/plain": [
              "<Figure size 1152x1152 with 0 Axes>"
            ]
          },
          "metadata": {},
          "output_type": "display_data"
        }
      ],
      "source": [
        "    \"Creates and TSNE model and plots it\"\n",
        "    labels = []\n",
        "    tokens = []\n",
        "    for word in df_uniq_100.word.values:\n",
        "        tokens.append(word_vector(word))\n",
        "        labels.append(word)\n",
        "    \n",
        "    tsne_model = TSNE(perplexity=40, n_components=2, init='pca', n_iter=2500, random_state=23)\n",
        "    new_values = tsne_model.fit_transform(tokens)\n",
        "    data = pd.DataFrame(new_values, columns = ['X','Y'])\n",
        "    data['labels'] = labels\n",
        "    data['POS'] = tags\n",
        "    plt.figure(figsize=(16, 16)) \n",
        "    fig = px.scatter(data,\n",
        "                     x='X',\n",
        "                     y='Y',\n",
        "                     # size='dot_size',\n",
        "                     text='labels',\n",
        "                     color = 'POS',\n",
        "                    # color_discrete_sequence=['green']\n",
        "                     # log_x=True,\n",
        "                    #  labels={\n",
        "                    #      \"x\": \" \",\n",
        "                    #      \"y\": \" \",\n",
        "                    #      # 'dot_size': 'Portability',\n",
        "                    #     #  'explainer_name': 'Explainer '\n",
        "                    #  },\n",
        "                    #  title='No overlapping annotations',  # take some vertical space\n",
        "                     )  \n",
        "    def improve_text_position(x):\n",
        "        \"\"\" it is more efficient if the x values are sorted \"\"\"\n",
        "        positions = ['top center', 'bottom center']  # you can add more: left center ...\n",
        "        return [positions[i % len(positions)] for i in range(len(x))]\n",
        "\n",
        "    fig.update_traces(marker=dict(size=12, symbol=\"circle\", line=dict(width=2, color=\"DarkSlateGrey\")), \n",
        "                      textposition = improve_text_position(data['X']))\n",
        "\n",
        "\n",
        "    # fig.update_xaxes(tickfont=dict(size=30))\n",
        "    fig.update_layout(\n",
        "    xaxis_title=None,\n",
        "    yaxis_title=None,\n",
        "    autosize= False,\n",
        "    width=1800,\n",
        "    height=1800,\n",
        "\n",
        "    legend = dict(font=dict(size= 30)),\n",
        "    font=dict(size=18))\n",
        "        # color=\"RebeccaPurple\")\n",
        "    fig.show()\n"
      ]
    },
    {
      "cell_type": "code",
      "execution_count": null,
      "metadata": {
        "id": "2UCWAX8RG2Sw"
      },
      "outputs": [],
      "source": []
    },
    {
      "cell_type": "code",
      "execution_count": null,
      "metadata": {
        "id": "ghrTtApmjbkN"
      },
      "outputs": [],
      "source": [
        "fig.write_image(\"fig-100.pdf\")"
      ]
    },
    {
      "cell_type": "markdown",
      "metadata": {
        "id": "Tkpq_dIbG--a"
      },
      "source": [
        "#### Plot 2"
      ]
    },
    {
      "cell_type": "code",
      "execution_count": null,
      "metadata": {
        "id": "b-ZNvOI6KpfP"
      },
      "outputs": [],
      "source": [
        "labels = []\n",
        "tokens = []"
      ]
    },
    {
      "cell_type": "code",
      "execution_count": null,
      "metadata": {
        "id": "TDilaenhHAjH"
      },
      "outputs": [],
      "source": [
        "for word in df_uniq.word.values:\n",
        "  tokens.append(word_vector(word))\n",
        "  labels.append(word)"
      ]
    },
    {
      "cell_type": "code",
      "execution_count": null,
      "metadata": {
        "colab": {
          "base_uri": "https://localhost:8080/"
        },
        "id": "CLivSPip1VtS",
        "outputId": "a9fdb86a-85d3-4650-a20d-c3dc60e65b7b"
      },
      "outputs": [
        {
          "data": {
            "text/plain": [
              "4400"
            ]
          },
          "execution_count": 36,
          "metadata": {},
          "output_type": "execute_result"
        }
      ],
      "source": [
        "len(labels)"
      ]
    },
    {
      "cell_type": "code",
      "execution_count": null,
      "metadata": {
        "id": "uXPBOSEaBZUM"
      },
      "outputs": [],
      "source": [
        "tokens_norm = normalize(tokens)"
      ]
    },
    {
      "cell_type": "code",
      "execution_count": null,
      "metadata": {
        "id": "rBXYxAGmIFkx"
      },
      "outputs": [],
      "source": [
        "# tsne_model = TSNE(perplexity=40, n_components=2, init='pca', n_iter=2500)\n",
        "# new_values = tsne_model.fit_transform(tokens)\n",
        "pca = PCA(n_components=2)\n",
        "new_values = pca.fit_transform(tokens_norm)\n",
        "data = pd.DataFrame(new_values, columns = ['X','Y'])\n",
        "data['labels'] = labels\n",
        "# data['POS'] = tags"
      ]
    },
    {
      "cell_type": "code",
      "execution_count": null,
      "metadata": {
        "id": "RiZX5TtKlcFI"
      },
      "outputs": [],
      "source": [
        "# "
      ]
    },
    {
      "cell_type": "code",
      "execution_count": null,
      "metadata": {
        "id": "mZ6ShsQTluAf"
      },
      "outputs": [],
      "source": [
        "# labels_1 =['he$_{(267)}$', 'man$_{(11)}$', 'son$_{(23)}$', 'brother$_{(18)}$',  'nephew$_{(2)}$', 'male$_{(3)}$']\n",
        "# labels_2 =['she$_{(49)}$', 'woman$_{(2)}$', 'daughter$_{(8)}$', 'sister$_{(3)}$', 'niece$_{(1)}$', 'female$_{(1)}$']"
      ]
    },
    {
      "cell_type": "code",
      "execution_count": null,
      "metadata": {
        "id": "BXB6KkDBeR4C"
      },
      "outputs": [],
      "source": [
        "# p1_x = [data[data['labels'] == 'he'].values[0][:2][0],\n",
        "#     data[data['labels'] == 'man'].values[0][:2][0],\n",
        "#       data[data['labels'] == 'son'].values[0][:2][0],\n",
        "#       data[data['labels'] == 'brother'].values[0][:2][0],\n",
        "#       data[data['labels'] == 'nephew'].values[0][:2][0],\n",
        "#       data[data['labels'] == 'male'].values[0][:2][0]]\n",
        "\n",
        "# p1_y = [data[data['labels'] == 'he'].values[0][:2][1],\n",
        "#     data[data['labels'] == 'man'].values[0][:2][1],\n",
        "#       data[data['labels'] == 'son'].values[0][:2][1],\n",
        "#       data[data['labels'] == 'brother'].values[0][:2][1],\n",
        "#       data[data['labels'] == 'nephew'].values[0][:2][1],\n",
        "#       data[data['labels'] == 'male'].values[0][:2][1]]\n",
        "\n",
        "# p2_x = [data[data['labels'] == 'she'].values[0][:2][0],\n",
        "#     data[data['labels'] == 'woman'].values[0][:2][0],\n",
        "#       data[data['labels'] == 'daughter'].values[0][:2][0],\n",
        "#       data[data['labels'] == 'sister'].values[0][:2][0],\n",
        "#       data[data['labels'] == 'niece'].values[0][:2][0],\n",
        "#       data[data['labels'] == 'female'].values[0][:2][0]]\n",
        "      \n",
        "# p2_y = [data[data['labels'] == 'she'].values[0][:2][1],\n",
        "#     data[data['labels'] == 'woman'].values[0][:2][1],\n",
        "#       data[data['labels'] == 'daughter'].values[0][:2][1],\n",
        "#       data[data['labels'] == 'sister'].values[0][:2][1],\n",
        "#       data[data['labels'] == 'niece'].values[0][:2][1],\n",
        "#       data[data['labels'] == 'female'].values[0][:2][1]]\n",
        "      "
      ]
    },
    {
      "cell_type": "code",
      "execution_count": null,
      "metadata": {
        "id": "tS-O6Q_GX3wx"
      },
      "outputs": [],
      "source": [
        "# ## unormalization\n",
        "\n",
        "# fig, ax = plt.subplots()\n",
        "# ax.set_facecolor('white')\n",
        "\n",
        "# for i in range(len(p1_x)):  \n",
        "#   if i == 0:   \n",
        "#     ax.plot([p1_x[i],p2_x[i]], [p1_y[i], p2_y[i]], color = 'darkgreen', marker='o', markersize = 3, linestyle = 'dashed', linewidth=1.5, label = 'Pattern 1')\n",
        "#     ax.annotate(labels_1[i], xy = (p1_x[i],p1_y[i]), xytext = (p1_x[i] + 1 ,p1_y[i]))\n",
        "#     ax.annotate(labels_2[i], xy = (p2_x[i],p2_y[i]), xytext = (p2_x[i] + 2 ,p2_y[i]))\n",
        "\n",
        "#   elif i in [1,2]:\n",
        "#     ax.plot([p1_x[i],p2_x[i]], [p1_y[i], p2_y[i]], color = 'darkgreen', marker='o', markersize = 3, linestyle = 'dashed', linewidth=1.5)\n",
        "#     ax.annotate(labels_1[i], xy = (p1_x[i],p1_y[i]), xytext = (p1_x[i] + 1 ,p1_y[i]))\n",
        "#     ax.annotate(labels_2[i], xy = (p2_x[i],p2_y[i]), xytext = (p2_x[i] + 1 ,p2_y[i] - 0.3))\n",
        "\n",
        "#   elif i == 3:\n",
        "#     ax.plot([p1_x[i],p2_x[i]], [p1_y[i], p2_y[i]], color = 'crimson', marker='o', markersize = 3, linestyle = 'dashed', linewidth=1.5, label = 'Pattern 2')\n",
        "#     ax.annotate(labels_1[i], xy = (p1_x[i],p1_y[i]), xytext = (p1_x[i] - 4 ,p1_y[i] + 2.5))\n",
        "#     ax.annotate(labels_2[i], xy = (p2_x[i],p2_y[i]), xytext = (p2_x[i]  ,p2_y[i] - 3))\n",
        "#   else:\n",
        "#     ax.plot([p1_x[i],p2_x[i]], [p1_y[i], p2_y[i]], color = 'crimson', marker='o', markersize = 3, linestyle = 'dashed', linewidth=1.5)\n",
        "#     ax.annotate(labels_1[i], xy = (p1_x[i],p1_y[i]), xytext = (p1_x[i] - 8 ,p1_y[i] + 0.5  ))\n",
        "#     ax.annotate(labels_2[i], xy = (p2_x[i],p2_y[i]), xytext = (p2_x[i] - 8 ,p2_y[i] - 1))\n",
        "\n",
        "# ax.legend(loc = 'lower right', prop={'size': 12})\n",
        "  "
      ]
    },
    {
      "cell_type": "code",
      "execution_count": null,
      "metadata": {
        "id": "NogxF5_aCwqk"
      },
      "outputs": [],
      "source": [
        "p1_x = [data[data['labels'] == 'man'].values[0][:2][0],\n",
        "    data[data['labels'] == 'he'].values[0][:2][0],\n",
        "      data[data['labels'] == 'son'].values[0][:2][0],\n",
        "      data[data['labels'] == 'brother'].values[0][:2][0],\n",
        "      data[data['labels'] == 'nephew'].values[0][:2][0],\n",
        "      data[data['labels'] == 'male'].values[0][:2][0]]\n",
        "\n",
        "p1_y = [data[data['labels'] == 'man'].values[0][:2][1],\n",
        "    data[data['labels'] == 'he'].values[0][:2][1],\n",
        "      data[data['labels'] == 'son'].values[0][:2][1],\n",
        "      data[data['labels'] == 'brother'].values[0][:2][1],\n",
        "      data[data['labels'] == 'nephew'].values[0][:2][1],\n",
        "      data[data['labels'] == 'male'].values[0][:2][1]]\n",
        "\n",
        "p2_x = [data[data['labels'] == 'woman'].values[0][:2][0],\n",
        "    data[data['labels'] == 'she'].values[0][:2][0],\n",
        "      data[data['labels'] == 'daughter'].values[0][:2][0],\n",
        "      data[data['labels'] == 'sister'].values[0][:2][0],\n",
        "      data[data['labels'] == 'niece'].values[0][:2][0],\n",
        "      data[data['labels'] == 'female'].values[0][:2][0]]\n",
        "      \n",
        "p2_y = [data[data['labels'] == 'woman'].values[0][:2][1],\n",
        "    data[data['labels'] == 'she'].values[0][:2][1],\n",
        "      data[data['labels'] == 'daughter'].values[0][:2][1],\n",
        "      data[data['labels'] == 'sister'].values[0][:2][1],\n",
        "      data[data['labels'] == 'niece'].values[0][:2][1],\n",
        "      data[data['labels'] == 'female'].values[0][:2][1]]\n",
        "      "
      ]
    },
    {
      "cell_type": "code",
      "execution_count": null,
      "metadata": {
        "id": "A1kclvXGC4-V"
      },
      "outputs": [],
      "source": [
        "labels_1 =['man$_{(11)}$','he$_{(267)}$' , 'son$_{(23)}$', 'brother$_{(18)}$',  'nephew$_{(2)}$', 'male$_{(3)}$']\n",
        "labels_2 =['woman$_{(2)}$', 'she$_{(49)}$', 'daughter$_{(8)}$', 'sister$_{(3)}$', 'niece$_{(1)}$', 'female$_{(1)}$']"
      ]
    },
    {
      "cell_type": "code",
      "execution_count": null,
      "metadata": {
        "colab": {
          "base_uri": "https://localhost:8080/",
          "height": 53
        },
        "id": "DHQgPg4RIynF",
        "outputId": "aaafb6b5-2930-4c60-e8b9-4599c20b29af"
      },
      "outputs": [
        {
          "data": {
            "text/plain": [
              "<Figure size 2400x1200 with 0 Axes>"
            ]
          },
          "execution_count": 21,
          "metadata": {},
          "output_type": "execute_result"
        },
        {
          "data": {
            "text/plain": [
              "<Figure size 2400x1200 with 0 Axes>"
            ]
          },
          "metadata": {},
          "output_type": "display_data"
        }
      ],
      "source": [
        "plt.style.use('bmh')\n",
        "plt.rcParams[\"font.family\"] = \"Times New Roman\"\n",
        "figure(figsize=(8, 4))"
      ]
    },
    {
      "cell_type": "code",
      "execution_count": null,
      "metadata": {
        "colab": {
          "base_uri": "https://localhost:8080/",
          "height": 877
        },
        "id": "X9l0jQv-B8v5",
        "outputId": "1bb51a9a-8460-4144-eb93-7f40e48ca1e2"
      },
      "outputs": [
        {
          "data": {
            "text/plain": [
              "<matplotlib.legend.Legend at 0x7f46f7b74d60>"
            ]
          },
          "execution_count": 59,
          "metadata": {},
          "output_type": "execute_result"
        },
        {
          "data": {
            "image/png": "[encoded data removed]",
            "text/plain": [
              "<Figure size 1800x1200 with 1 Axes>"
            ]
          },
          "metadata": {
            "needs_background": "light"
          },
          "output_type": "display_data"
        }
      ],
      "source": [
        "# normalization\n",
        "fig, ax = plt.subplots()\n",
        "ax.set_facecolor('white')\n",
        "\n",
        "for i in range(len(p1_x)):  \n",
        "  if i == 0:   \n",
        "    ax.plot([p1_x[i],p2_x[i]], [p1_y[i], p2_y[i]], color = 'crimson', marker='o', markersize = 3, linestyle = 'dashed', linewidth=1.5, label = 'Pattern 1')\n",
        "    ax.annotate(labels_1[i], xy = (p1_x[i],p1_y[i]), xytext = (p1_x[i]  ,p1_y[i]))\n",
        "    ax.annotate(labels_2[i], xy = (p2_x[i],p2_y[i]), xytext = (p2_x[i] - 0.01  ,p2_y[i]))\n",
        "\n",
        "  # elif i in [1,2]:\n",
        "  #   ax.plot([p1_x[i],p2_x[i]], [p1_y[i], p2_y[i]], color = 'darkgreen', marker='o', markersize = 3, linestyle = 'dashed', linewidth=1.5)\n",
        "  #   ax.annotate(labels_1[i], xy = (p1_x[i],p1_y[i]), xytext = (p1_x[i]  ,p1_y[i]))\n",
        "  #   ax.annotate(labels_2[i], xy = (p2_x[i],p2_y[i]), xytext = (p2_x[i]  ,p2_y[i]))\n",
        "\n",
        "  elif i == 1:\n",
        "    ax.plot([p1_x[i],p2_x[i]], [p1_y[i], p2_y[i]], color = 'darkgreen', marker='o', markersize = 3, linestyle = 'dashed', linewidth=1.5, label = 'Pattern 2')\n",
        "    ax.annotate(labels_1[i], xy = (p1_x[i],p1_y[i]), xytext = (p1_x[i]  ,p1_y[i] ))\n",
        "    ax.annotate(labels_2[i], xy = (p2_x[i],p2_y[i]), xytext = (p2_x[i]  ,p2_y[i] ))\n",
        "  \n",
        "  elif i == 5:\n",
        "    ax.plot([p1_x[i],p2_x[i]], [p1_y[i], p2_y[i]], color = 'darkgreen', marker='o', markersize = 3, linestyle = 'dashed', linewidth=1.5)\n",
        "    ax.annotate(labels_1[i], xy = (p1_x[i],p1_y[i]), xytext = (p1_x[i]  ,p1_y[i] - 0.005  ))\n",
        "    ax.annotate(labels_2[i], xy = (p2_x[i],p2_y[i]), xytext = (p2_x[i]  - 0.01 ,p2_y[i] ))\n",
        "\n",
        "  \n",
        "  else:\n",
        "    ax.plot([p1_x[i],p2_x[i]], [p1_y[i], p2_y[i]], color = 'darkgreen', marker='o', markersize = 3, linestyle = 'dashed', linewidth=1.5)\n",
        "    ax.annotate(labels_1[i], xy = (p1_x[i],p1_y[i]), xytext = (p1_x[i] - 0.002  ,p1_y[i] + 0.002  ))\n",
        "    ax.annotate(labels_2[i], xy = (p2_x[i],p2_y[i]), xytext = (p2_x[i] -0.01 ,p2_y[i] - 0.002 ))\n",
        "\n",
        "\n",
        "ax.legend(loc = 'lower left', prop={'size': 12})\n",
        "# ax.set_yticks(np.arange(-0.1, 0.26, 0.05))\n",
        "  "
      ]
    },
    {
      "cell_type": "markdown",
      "metadata": {
        "id": "J8UExrBQ1sV_"
      },
      "source": [
        "Glove"
      ]
    },
    {
      "cell_type": "code",
      "execution_count": null,
      "metadata": {
        "id": "nmY3ofAbpDEY"
      },
      "outputs": [],
      "source": [
        "def load_embedding(filename):\n",
        "    '''\n",
        "    Load Word Embedding: return dict, voc size, and dim of embedding\n",
        "    '''\n",
        "    embedding_dict = {}\n",
        "    with open(filename,'r', encoding='utf8') as f:\n",
        "        for line in f:\n",
        "            if '\\x85' in line:\n",
        "                split_line = ['\\x85'] + line.split()\n",
        "            else:\n",
        "                split_line = line.split()\n",
        "            word = split_line[0]\n",
        "            embedding = np.array(split_line[1:], dtype=np.float64)\n",
        "            embedding_dict[word] = embedding\n",
        "    return embedding_dict, len(embedding_dict), len(embedding)"
      ]
    },
    {
      "cell_type": "code",
      "execution_count": null,
      "metadata": {
        "id": "xfG2oWCKtJds"
      },
      "outputs": [],
      "source": [
        "glove_path = 'glove.twitter.27B.50d.txt'\n",
        "glove_dict, glove_counts, glove_dim = load_embedding(glove_path)"
      ]
    },
    {
      "cell_type": "code",
      "execution_count": null,
      "metadata": {
        "id": "1j6lnKHhsSYM"
      },
      "outputs": [],
      "source": [
        "labels = []\n",
        "tokens_glove = []"
      ]
    },
    {
      "cell_type": "code",
      "execution_count": null,
      "metadata": {
        "id": "TwMimmIwvv6i"
      },
      "outputs": [],
      "source": [
        "glove_list = list(glove_dict.keys())"
      ]
    },
    {
      "cell_type": "code",
      "execution_count": null,
      "metadata": {
        "id": "eUNGKBeosTOE"
      },
      "outputs": [],
      "source": [
        "for word in df_uniq.word.values:\n",
        "  if word in glove_list:\n",
        "      tokens_glove.append(glove_dict[word])\n",
        "      labels.append(word)"
      ]
    },
    {
      "cell_type": "code",
      "execution_count": null,
      "metadata": {
        "id": "tVAKIRtDxEut"
      },
      "outputs": [],
      "source": [
        "tokens_glove = np.array(tokens_glove)"
      ]
    },
    {
      "cell_type": "code",
      "execution_count": null,
      "metadata": {
        "id": "U7sN43bmA8Rn"
      },
      "outputs": [],
      "source": [
        "tokens_glove = normalize(tokens_glove)"
      ]
    },
    {
      "cell_type": "code",
      "execution_count": null,
      "metadata": {
        "id": "7A42rDgRpDGv"
      },
      "outputs": [],
      "source": [
        "pca = PCA(n_components=2)\n",
        "new_values = pca.fit_transform(tokens_glove)\n",
        "data = pd.DataFrame(new_values, columns = ['X','Y'])\n",
        "data['labels'] = labels\n",
        "# data['POS'] = tags"
      ]
    },
    {
      "cell_type": "code",
      "execution_count": null,
      "metadata": {
        "id": "9PG7PmGN_ZgV"
      },
      "outputs": [],
      "source": [
        "labels_1 =['he',  'male', 'son', 'nephew', 'man', 'brother']\n",
        "labels_2 =['she', 'female', 'daughter', 'niece', 'woman', 'sister']"
      ]
    },
    {
      "cell_type": "code",
      "execution_count": null,
      "metadata": {
        "id": "B0pHHmmtpDJF"
      },
      "outputs": [],
      "source": [
        "p1_x = [data[data['labels'] == 'he'].values[0][:2][0],\n",
        "      data[data['labels'] == 'male'].values[0][:2][0],\n",
        "      data[data['labels'] == 'son'].values[0][:2][0],\n",
        "      data[data['labels'] == 'nephew'].values[0][:2][0],\n",
        "      data[data['labels'] == 'man'].values[0][:2][0],\n",
        "      data[data['labels'] == 'brother'].values[0][:2][0]]\n",
        "\n",
        "p1_y = [data[data['labels'] == 'he'].values[0][:2][1],\n",
        "      data[data['labels'] == 'male'].values[0][:2][1],\n",
        "      data[data['labels'] == 'son'].values[0][:2][1],\n",
        "      data[data['labels'] == 'nephew'].values[0][:2][1],\n",
        "      data[data['labels'] == 'man'].values[0][:2][1],\n",
        "      data[data['labels'] == 'brother'].values[0][:2][1]]\n",
        "\n",
        "p2_x = [data[data['labels'] == 'she'].values[0][:2][0],\n",
        "      data[data['labels'] == 'female'].values[0][:2][0],\n",
        "      data[data['labels'] == 'daughter'].values[0][:2][0],\n",
        "      data[data['labels'] == 'niece'].values[0][:2][0],\n",
        "      data[data['labels'] == 'woman'].values[0][:2][0],\n",
        "      data[data['labels'] == 'sister'].values[0][:2][0]]\n",
        "      \n",
        "p2_y = [data[data['labels'] == 'she'].values[0][:2][1],\n",
        "      data[data['labels'] == 'female'].values[0][:2][1],\n",
        "      data[data['labels'] == 'daughter'].values[0][:2][1],\n",
        "      data[data['labels'] == 'niece'].values[0][:2][1],\n",
        "      data[data['labels'] == 'woman'].values[0][:2][1],\n",
        "      data[data['labels'] == 'sister'].values[0][:2][1]]\n",
        "      "
      ]
    },
    {
      "cell_type": "code",
      "execution_count": null,
      "metadata": {
        "colab": {
          "base_uri": "https://localhost:8080/",
          "height": 934
        },
        "id": "byQR20_RpDLb",
        "outputId": "8b1f347f-dde6-4f9a-b2b8-e98214d1481d"
      },
      "outputs": [
        {
          "data": {
            "text/plain": [
              "<matplotlib.legend.Legend at 0x7f27c2da1f10>"
            ]
          },
          "execution_count": 22,
          "metadata": {},
          "output_type": "execute_result"
        },
        {
          "name": "stderr",
          "output_type": "stream",
          "text": [
            "WARNING:matplotlib.font_manager:findfont: Font family ['Times New Roman'] not found. Falling back to DejaVu Sans.\n",
            "WARNING:matplotlib.font_manager:findfont: Font family ['Times New Roman'] not found. Falling back to DejaVu Sans.\n"
          ]
        },
        {
          "data": {
            "image/png": "[encoded data removed]",
            "text/plain": [
              "<Figure size 1800x1200 with 1 Axes>"
            ]
          },
          "metadata": {
            "needs_background": "light"
          },
          "output_type": "display_data"
        },
        {
          "data": {
            "text/plain": [
              "<Figure size 2400x1200 with 0 Axes>"
            ]
          },
          "metadata": {},
          "output_type": "display_data"
        }
      ],
      "source": [
        "fig, ax = plt.subplots()\n",
        "figure(figsize=(8, 4), dpi=300)\n",
        "ax.set_facecolor('white')\n",
        "\n",
        "for i in range(len(p1_x)):  \n",
        "  ax.annotate(labels_1[i], xy = (p1_x[i],p1_y[i]), xytext = (p1_x[i] - 0.01 ,p1_y[i] + 0.005))\n",
        "  ax.annotate(labels_2[i], xy = (p2_x[i],p2_y[i]), xytext = (p2_x[i] - 0.02 ,p2_y[i] - 0.015))\n",
        "  \n",
        "  if i == 0:   \n",
        "    ax.plot([p1_x[i],p2_x[i]], [p1_y[i], p2_y[i]], color = 'crimson', marker='o', markersize = 5, linestyle = 'dashed', label = 'Pattern 1')\n",
        "  \n",
        "  elif i in [1]:\n",
        "    ax.plot([p1_x[i],p2_x[i]], [p1_y[i], p2_y[i]], color = 'crimson', marker='o', markersize = 5, linestyle = 'dashed')\n",
        "  \n",
        "  elif i == 2:\n",
        "    ax.plot([p1_x[i],p2_x[i]], [p1_y[i], p2_y[i]], color = 'darkgreen', marker='o', markersize = 5, linestyle = 'dashed', label = 'Pattern 2')\n",
        "  else:\n",
        "    ax.plot([p1_x[i],p2_x[i]], [p1_y[i], p2_y[i]], color = 'darkgreen', marker='o', markersize = 5, linestyle = 'dashed')\n",
        "\n",
        "ax.legend(loc = 'lower left', prop={'size': 12})\n",
        "# ax.set_yticks(np.arange(-1, 1, 0.2))\n",
        "# ax.set_xticks(np.arange(-1,1, 0.2))\n",
        "  "
      ]
    }
  ],
  "metadata": {
    "colab": {
      "collapsed_sections": [
        "Et30Yvh69q3R",
        "togntZvD9q3a",
        "cNpLUOmI9q3e",
        "jaOMukVM9q3h",
        "pCkArdvp9q3i"
      ],
      "provenance": []
    },
    "kernelspec": {
      "display_name": "Python 3.8.13 ('base')",
      "language": "python",
      "name": "python3"
    },
    "language_info": {
      "codemirror_mode": {
        "name": "ipython",
        "version": 3
      },
      "file_extension": ".py",
      "mimetype": "text/x-python",
      "name": "python",
      "nbconvert_exporter": "python",
      "pygments_lexer": "ipython3",
      "version": "3.8.13"
    },
    "vscode": {
      "interpreter": {
        "hash": "81c0a520ab9d5f38718f11fc8e39c528dfdc4be4c6d24f2eb9940d412ba4096a"
      }
    }
  },
  "nbformat": 4,
  "nbformat_minor": 0
}
